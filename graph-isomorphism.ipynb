{
 "cells": [
  {
   "cell_type": "markdown",
   "id": "ab78b9b9",
   "metadata": {},
   "source": [
    "## WIP - improvements\n",
    "\n",
    "\n",
    "Notable TODOs:\n",
    "* Explanation of the Graph Iomorphism Problem.\n",
    "• Explanation of how graphs can be represented in data structures.\n",
    "• Python function implementing an algorithm to determine if two graphs are isomorphic or not.\n",
    "• Discussion of the computational complexity of the Graph Isomorphism Problem.\n"
   ]
  },
  {
   "cell_type": "markdown",
   "id": "4ee1fa41",
   "metadata": {},
   "source": [
    "# The Graph Isomorphism problem\n"
   ]
  },
  {
   "cell_type": "markdown",
   "id": "cc5d4962",
   "metadata": {},
   "source": [
    "## Introdution"
   ]
  },
  {
   "cell_type": "markdown",
   "id": "6e3e2125",
   "metadata": {},
   "source": [
    "First, let's clarify some of the terminology used throughout this notebook:\n",
    "\n",
    "<b>Vertex</b> - A vertex of a graph is one of the objects that are connected together. Another way to think of a vertex is a node or point on a graph. We often represent a vertex using “V”. For example a set of vertices on a graph could be represented as “V={1,2,3,4}”.\n",
    "\n",
    "<b>Vertices</b> - More than one vertex.\n",
    "\n",
    "<b>Edge</b> - An edge of a graph is one of the connections between two vertices. A single edge would contain a set of 2 vertices seeing as it is the connection between two points. We often represent an edge using “E”. For example the edges on a graph could be represented as “E={{1, 2}, {1, 4}, {2, 3}, {3, 4}}”.\n",
    "\n",
    "<b>Degree</b> - The degree of a vertex is the number of edges connecting it.\n",
    "\n",
    "<b>Graph</b> - A Graph is a representation of a network and it describes the relationship between vertices and edges. A graph consists of some points and lines between them. The length of the lines and position of the points do not matter. We often represent a graph using “G = (V1, E1)” where V1 are the vertices of the grap, and E1 are the edges of the graph.\n",
    "\n",
    "<b>Bijection</b> - A bijection is a function between the elements of two sets, where each element of one set is paired with exactly one element of the other set, and each element of the other set is paired with exactly one element of the first set.\n",
    "\n",
    "<b>[![vertex-edge-graph.png](https://i.postimg.cc/WpSSNmyC/vertex-edge-graph.png)](https://postimg.cc/8sJLwvNm)\n",
    "Reference: [Image link](https://www.google.com/url?sa=i&url=https%3A%2F%2Fwikkihut.com%2Fgraph-data-structure%2F&psig=AOvVaw1fW8Pd18pmMm1C2bNc_U3O&ust=1649869094973000&source=images&cd=vfe&ved=0CAoQjRxqFwoTCIDdhsD_jvcCFQAAAAAdAAAAABAE)</b>\n"
   ]
  }
 ],
 "metadata": {
  "kernelspec": {
   "display_name": "Python 3 (ipykernel)",
   "language": "python",
   "name": "python3"
  },
  "language_info": {
   "codemirror_mode": {
    "name": "ipython",
    "version": 3
   },
   "file_extension": ".py",
   "mimetype": "text/x-python",
   "name": "python",
   "nbconvert_exporter": "python",
   "pygments_lexer": "ipython3",
   "version": "3.9.7"
  }
 },
 "nbformat": 4,
 "nbformat_minor": 5
}
