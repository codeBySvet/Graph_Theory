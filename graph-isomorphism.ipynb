{
 "cells": [
  {
   "cell_type": "markdown",
   "id": "ab78b9b9",
   "metadata": {},
   "source": [
    "## WIP - improvements\n",
    "\n",
    "\n",
    "Notable TODOs:\n",
    "* Explanation of the Graph Iomorphism Problem.\n",
    "• Explanation of how graphs can be represented in data structures.\n",
    "• Python function implementing an algorithm to determine if two graphs are isomorphic or not.\n",
    "• Discussion of the computational complexity of the Graph Isomorphism Problem.\n"
   ]
  },
  {
   "cell_type": "markdown",
   "id": "4ee1fa41",
   "metadata": {},
   "source": [
    "# The Graph Isomorphism problem\n"
   ]
  },
  {
   "cell_type": "markdown",
   "id": "cc5d4962",
   "metadata": {},
   "source": [
    "## Introdution"
   ]
  },
  {
   "cell_type": "markdown",
   "id": "6e3e2125",
   "metadata": {},
   "source": [
    "First, let's clarify some of the terminology used throughout this notebook:\n",
    "\n",
    "<b>Vertex</b> - A vertex of a graph is one of the objects that are connected together. Another way to think of a vertex is a node or point on a graph. We often represent a vertex using “V”. For example a set of vertices on a graph could be represented as “V={1,2,3,4}”.\n",
    "\n",
    "<b>Vertices</b> - More than one vertex.\n",
    "\n",
    "<b>Edge</b> - An edge of a graph is one of the connections between two vertices. A single edge would contain a set of 2 vertices seeing as it is the connection between two points. We often represent an edge using “E”. For example the edges on a graph could be represented as “E={{1, 2}, {1, 4}, {2, 3}, {3, 4}}”.\n",
    "\n",
    "<b>Degree</b> - The degree of a vertex is the number of edges connecting it.\n",
    "\n",
    "<b>Graph</b> - A Graph is a representation of a network and it describes the relationship between vertices and edges. A graph consists of some points and lines between them. The length of the lines and position of the points do not matter. We often represent a graph using “G = (V1, E1)” where V1 are the vertices of the grap, and E1 are the edges of the graph.\n",
    "\n",
    "<b>Bijection</b> - A bijection is a function between the elements of two sets, where each element of one set is paired with exactly one element of the other set, and each element of the other set is paired with exactly one element of the first set.\n",
    "\n",
    "<b>[![vertex-edge-graph.png](https://i.postimg.cc/WpSSNmyC/vertex-edge-graph.png)](https://postimg.cc/8sJLwvNm)\n",
    "Reference: [Image link](https://www.google.com/url?sa=i&url=https%3A%2F%2Fwikkihut.com%2Fgraph-data-structure%2F&psig=AOvVaw1fW8Pd18pmMm1C2bNc_U3O&ust=1649869094973000&source=images&cd=vfe&ved=0CAoQjRxqFwoTCIDdhsD_jvcCFQAAAAAdAAAAABAE)</b>\n"
   ]
  },
  {
   "cell_type": "markdown",
   "id": "89fd4b81",
   "metadata": {},
   "source": [
    "## What is the Graph Isomorphism problem?"
   ]
  },
  {
   "cell_type": "markdown",
   "id": "32ddc730",
   "metadata": {},
   "source": [
    "The formal definition is: The graph isomorphism problem is the computational problem of determining whether two finite graphs are isomorphic.\n",
    "\n",
    "So what does that actually mean? A graph can exist in many shapes and forms. Having the same number of edges, vertices and degrees. These types of graphs are called isomorphic graphs. An isomorphism is a mapping for which an inverse mapping also exists. It's a way to describe equivalence. There is often the choice to implement a certain structure of a feature in more than one way. This is especially true for graphs. These alternatives may be equivalent, in which case they're isomorphic.\n",
    "\n",
    "The below diagram shows how two graphs can be isomorphic in structure:\n",
    "[![ppp.png](https://i.postimg.cc/g2qBhwk6/ppp.png)](https://postimg.cc/NKF4qjXg)\n",
    "\n",
    "<b>Reference: [Image link](https://github.com/ianmcloughlin/graph-isomorphism/raw/main/graph_isomorphism.pdf)</b>"
   ]
  },
  {
   "cell_type": "markdown",
   "id": "e35f8122",
   "metadata": {},
   "source": [
    "### Why does it matter if something is Isomorphic? \n",
    "\n",
    "At its core, graphs are a set of points connected by edges. Many real world questions regarding efficiency or distance travelled can be answered using the knowledge from Isomorphism in graph theory. A real world example of industries that could benefit from the isomorphism problem is the world of chemistry. \n",
    " \n",
    "In a journal called “Graph Isomorphism, General Remarks” from as far back as 1979, Gary Miller stated the following: <i>“It is often stated that efficient graph isomorphism algorithms are useful to Chemistry since molecules can be viewed as a graph where the vertices are the atoms and edges are the bonds. A problem which arises is classifying molecules; namely, we have a very large table of molecules and we are given some new molecule and asked whether or not it is already in the list. Since the number of molecules is potentially exponential in the number of atoms per molecule, even a linear time isomorphism algorithm naively produces a potentially exponential search.”</i> "
   ]
  },
  {
   "cell_type": "markdown",
   "id": "3412d543",
   "metadata": {},
   "source": [
    "It is important to understand that this is just the tip of the iceberg. Graphs are commonly used in fields including computer vision, pattern recognition, and graph matching. Having an efficient way to compare two graphs are isomorphic is massively important. For nearly fifty years it been one of the best knowlen problems in theoretical computer science, whether there is a polynomial time algorithm deciding if two graphs are isomorphic.\n",
    "\n",
    "Ultimately, it all comes down to efficiency. "
   ]
  },
  {
   "cell_type": "markdown",
   "id": "7a54a825",
   "metadata": {},
   "source": [
    "<b>Reference: Journal download link https://urresearch.rochester.edu/fileDownloadForInstitutionalItem.action?itemId=13508&itemFileId=31276</b>\n"
   ]
  },
  {
   "cell_type": "markdown",
   "id": "efab8367",
   "metadata": {},
   "source": [
    "# How complicated is The Graph Isomorphism problem"
   ]
  },
  {
   "cell_type": "markdown",
   "id": "cab5cc8c",
   "metadata": {},
   "source": [
    "At first glance you may thing that this is not a particularly difficult issue. That most people could easily identify if any given two graphs are the same. Unfortunately, its not quite that simple. The complexity of two graphs is only limited by our imagination\n",
    "\n",
    "A <b>complexity class</b> is a set of computational problems of related resource-based complexity. You may often see that complexity is expressed as a measure of time and memory when it comes to computer science. Two of these complexity classes are called P(PTIME) and NP(nondeterministic polynomial time). The Graph Isomorphism is considered an NP problem."
   ]
  },
  {
   "cell_type": "markdown",
   "id": "b9ef7094",
   "metadata": {},
   "source": [
    "## What is P VS NP"
   ]
  },
  {
   "cell_type": "markdown",
   "id": "84e45a36",
   "metadata": {},
   "source": [
    "We could spend hours going through the full details of the signficance of different complexity classes. Often times its highly complicated and ultimately it is not the focus of this notebook. But there are a few simple concepts to bear in mind for it all to make sense and are related to the Graph Isomorphism problem. "
   ]
  },
  {
   "cell_type": "code",
   "execution_count": null,
   "id": "bfb898e8",
   "metadata": {},
   "outputs": [],
   "source": []
  }
 ],
 "metadata": {
  "kernelspec": {
   "display_name": "Python 3 (ipykernel)",
   "language": "python",
   "name": "python3"
  },
  "language_info": {
   "codemirror_mode": {
    "name": "ipython",
    "version": 3
   },
   "file_extension": ".py",
   "mimetype": "text/x-python",
   "name": "python",
   "nbconvert_exporter": "python",
   "pygments_lexer": "ipython3",
   "version": "3.9.7"
  }
 },
 "nbformat": 4,
 "nbformat_minor": 5
}
