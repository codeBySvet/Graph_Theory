{
 "cells": [
  {
   "cell_type": "markdown",
   "id": "ab78b9b9",
   "metadata": {},
   "source": [
    "## WIP - improvements\n",
    "\n",
    "\n",
    "Notable TODOs:\n",
    "* Explanation of the Graph Iomorphism Problem.\n",
    "• Explanation of how graphs can be represented in data structures.\n",
    "• Python function implementing an algorithm to determine if two graphs are isomorphic or not.\n",
    "• Discussion of the computational complexity of the Graph Isomorphism Problem.\n"
   ]
  },
  {
   "cell_type": "markdown",
   "id": "cbbaf30b",
   "metadata": {},
   "source": [
    "# Graph Isomorphism Problem"
   ]
  },
  {
   "cell_type": "markdown",
   "id": "b356e2db",
   "metadata": {},
   "source": [
    "## What is the Graph Isomorphism Problem."
   ]
  },
  {
   "cell_type": "markdown",
   "id": "103a6ef5",
   "metadata": {},
   "source": [
    "The graph isomorphism problem is the computational problem of determining whether two finite graphs are really the same because there’s a one-to-one correspondence (an “isomorphism”) between their nodes that preserves the ways the nodes are connected. \n",
    "\n",
    "Two graphs (G1 and G2) are said to be isomorphic if their number of components, that is, vertices and edges are the same and their edge connectivity is retained."
   ]
  },
  {
   "cell_type": "markdown",
   "id": "b770fd71",
   "metadata": {},
   "source": [
    "## How do we determine if two graphs are isomorphic"
   ]
  },
  {
   "cell_type": "markdown",
   "id": "cb77880b",
   "metadata": {},
   "source": [
    "Its often easier to show that two graphs are not isomorphic than it is to show that they are. For any two graphs to be isomorphic, there are four widely accepted conditions which must be satisfied:\n",
    "\n",
    "* Number of vertices in both the graphs must be same.\n",
    "* Number of edges in both the graphs must be same.\n",
    "* Degree sequence of both the graphs must be same.\n",
    "* If a cycle of length L is formed by the adjacent vertices(of equal degree) in one graph, then a cycle of same length L must be formed by the adjacent vertices(of equal degree) in the other graph as well."
   ]
  },
  {
   "cell_type": "markdown",
   "id": "17d3a51d",
   "metadata": {},
   "source": [
    "[![j1.png](https://i.postimg.cc/T3SGvDvb/j1.png)](https://postimg.cc/mPQKQhDZ)"
   ]
  },
  {
   "cell_type": "code",
   "execution_count": null,
   "id": "a14844c6",
   "metadata": {},
   "outputs": [],
   "source": []
  }
 ],
 "metadata": {
  "kernelspec": {
   "display_name": "Python 3 (ipykernel)",
   "language": "python",
   "name": "python3"
  },
  "language_info": {
   "codemirror_mode": {
    "name": "ipython",
    "version": 3
   },
   "file_extension": ".py",
   "mimetype": "text/x-python",
   "name": "python",
   "nbconvert_exporter": "python",
   "pygments_lexer": "ipython3",
   "version": "3.9.7"
  }
 },
 "nbformat": 4,
 "nbformat_minor": 5
}
