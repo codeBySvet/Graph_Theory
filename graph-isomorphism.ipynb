{
 "cells": [
  {
   "cell_type": "markdown",
   "id": "ab78b9b9",
   "metadata": {},
   "source": [
    "## WIP - improvements\n",
    "\n",
    "\n",
    "Notable TODOs:\n",
    "* Explanation of the Graph Iomorphism Problem.\n",
    "• Explanation of how graphs can be represented in data structures.\n",
    "• Python function implementing an algorithm to determine if two graphs are isomorphic or not.\n",
    "• Discussion of the computational complexity of the Graph Isomorphism Problem.\n"
   ]
  },
  {
   "cell_type": "markdown",
   "id": "4ee1fa41",
   "metadata": {},
   "source": [
    "# The Graph Isomorphism problem\n"
   ]
  },
  {
   "cell_type": "markdown",
   "id": "cc5d4962",
   "metadata": {},
   "source": [
    "## Introdution"
   ]
  },
  {
   "cell_type": "markdown",
   "id": "6e3e2125",
   "metadata": {},
   "source": [
    "First, let's clarify some of the terminology used throughout this notebook:\n",
    "\n",
    "<b>Vertex</b> - A vertex of a graph is one of the objects that are connected together. Another way to think of a vertex is a node or point on a graph. We often represent a vertex using “V”. For example a set of vertices on a graph could be represented as “V={1,2,3,4}”.\n",
    "\n",
    "<b>Vertices</b> - More than one vertex.\n",
    "\n",
    "<b>Edge</b> - An edge of a graph is one of the connections between two vertices. A single edge would contain a set of 2 vertices seeing as it is the connection between two points. We often represent an edge using “E”. For example the edges on a graph could be represented as “E={{1, 2}, {1, 4}, {2, 3}, {3, 4}}”.\n",
    "\n",
    "<b>Degree</b> - The degree of a vertex is the number of edges connecting it.\n",
    "\n",
    "<b>Graph</b> - A Graph is a representation of a network and it describes the relationship between vertices and edges. A graph consists of some points and lines between them. The length of the lines and position of the points do not matter. We often represent a graph using “G = (V1, E1)” where V1 are the vertices of the grap, and E1 are the edges of the graph.\n",
    "\n",
    "<b>Bijection</b> - A bijection is a function between the elements of two sets, where each element of one set is paired with exactly one element of the other set, and each element of the other set is paired with exactly one element of the first set.\n",
    "\n",
    "<b>[![vertex-edge-graph.png](https://i.postimg.cc/WpSSNmyC/vertex-edge-graph.png)](https://postimg.cc/8sJLwvNm)\n",
    "Reference: [Image link](https://www.google.com/url?sa=i&url=https%3A%2F%2Fwikkihut.com%2Fgraph-data-structure%2F&psig=AOvVaw1fW8Pd18pmMm1C2bNc_U3O&ust=1649869094973000&source=images&cd=vfe&ved=0CAoQjRxqFwoTCIDdhsD_jvcCFQAAAAAdAAAAABAE)</b>\n"
   ]
  },
  {
   "cell_type": "markdown",
   "id": "89fd4b81",
   "metadata": {},
   "source": [
    "## What is the Graph Isomorphism problem?"
   ]
  },
  {
   "cell_type": "markdown",
   "id": "32ddc730",
   "metadata": {},
   "source": [
    "The formal definition is: The graph isomorphism problem is the computational problem of determining whether two finite graphs are isomorphic.\n",
    "\n",
    "So what does that actually mean? A graph can exist in many shapes and forms. Having the same number of edges, vertices and degrees. These types of graphs are called isomorphic graphs. An isomorphism is a mapping for which an inverse mapping also exists. It's a way to describe equivalence. There is often the choice to implement a certain structure of a feature in more than one way. This is especially true for graphs. These alternatives may be equivalent, in which case they're isomorphic.\n",
    "\n",
    "The below diagram shows how two graphs can be isomorphic in structure:\n",
    "[![ppp.png](https://i.postimg.cc/g2qBhwk6/ppp.png)](https://postimg.cc/NKF4qjXg)\n",
    "\n",
    "<b>Reference: [Image link](https://github.com/ianmcloughlin/graph-isomorphism/raw/main/graph_isomorphism.pdf)</b>"
   ]
  },
  {
   "cell_type": "markdown",
   "id": "e35f8122",
   "metadata": {},
   "source": [
    "### Why does it matter if something is Isomorphic? \n",
    "\n",
    "At its core, graphs are a set of points connected by edges. Many real world questions regarding efficiency or distance travelled can be answered using the knowledge from Isomorphism in graph theory. A real world example of industries that could benefit from the isomorphism problem is the world of chemistry. \n",
    " \n",
    "In a journal called “Graph Isomorphism, General Remarks” from as far back as 1979, Gary Miller stated the following: <i>“It is often stated that efficient graph isomorphism algorithms are useful to Chemistry since molecules can be viewed as a graph where the vertices are the atoms and edges are the bonds. A problem which arises is classifying molecules; namely, we have a very large table of molecules and we are given some new molecule and asked whether or not it is already in the list. Since the number of molecules is potentially exponential in the number of atoms per molecule, even a linear time isomorphism algorithm naively produces a potentially exponential search.”</i> "
   ]
  },
  {
   "cell_type": "markdown",
   "id": "3412d543",
   "metadata": {},
   "source": [
    "It is important to understand that this is just the tip of the iceberg. Graphs are commonly used in fields including computer vision, pattern recognition, and graph matching. Having an efficient way to compare two graphs are isomorphic is massively important. For nearly fifty years it been one of the best knowlen problems in theoretical computer science, whether there is a polynomial time algorithm deciding if two graphs are isomorphic.\n",
    "\n",
    "Ultimately, it all comes down to efficiency. "
   ]
  },
  {
   "cell_type": "markdown",
   "id": "7a54a825",
   "metadata": {},
   "source": [
    "<b>Reference: Journal download link https://urresearch.rochester.edu/fileDownloadForInstitutionalItem.action?itemId=13508&itemFileId=31276</b>\n"
   ]
  },
  {
   "cell_type": "markdown",
   "id": "efab8367",
   "metadata": {},
   "source": [
    "# How complicated is The Graph Isomorphism problem"
   ]
  },
  {
   "cell_type": "markdown",
   "id": "cab5cc8c",
   "metadata": {},
   "source": [
    "At first glance you may thing that this is not a particularly difficult issue. That most people could easily identify if any given two graphs are the same. Unfortunately, its not quite that simple. The complexity of two graphs is only limited by our imagination\n",
    "\n",
    "A <b>complexity class</b> is a set of computational problems of related resource-based complexity. You may often see that complexity is expressed as a measure of time and memory when it comes to computer science. Two of these complexity classes are called P(PTIME) and NP(nondeterministic polynomial time). The Graph Isomorphism is considered an NP problem."
   ]
  },
  {
   "cell_type": "markdown",
   "id": "b9ef7094",
   "metadata": {},
   "source": [
    "## What is P VS NP"
   ]
  },
  {
   "cell_type": "markdown",
   "id": "84e45a36",
   "metadata": {},
   "source": [
    "We could spend hours going through the full details of the signficance of different complexity classes. Often times its highly complicated and ultimately it is not the focus of this notebook. But there are a few simple concepts to bear in mind for it all to make sense and are related to the Graph Isomorphism problem. "
   ]
  },
  {
   "cell_type": "markdown",
   "id": "3b824a4b",
   "metadata": {},
   "source": [
    "Before going any further, its important to understand the difference between solving a problem, versus checking if a solution is correct. For example, lets say you are a novice developer and are tasked with creating a method which takes in X and outputs 2X. You have two options, you could spend some time online looking over many resources to figure out how to do it, which will take some time. Or else, you can ask the senior developer on your team to tell you the answer, which would be faster. The end result is the same, but it would be much faster to just have to check the answer from the senior developer is correct, rather than try to solve how to create the method. \n",
    "\n",
    "With the above in mind, you might say that P is the classification of problems that are considered easy because they are efficient to solve. NP on the other hand are problems which are efficient to check, but are not easy to solve. Dont forget that the Graph Isomorphism Problem is consdiered NP. Our goal is not to create a method like in the above example, but rather to find out of two graphs are isomorphic. We want to do this as efficiently as possible. "
   ]
  },
  {
   "cell_type": "markdown",
   "id": "e00024ba",
   "metadata": {},
   "source": [
    "\n",
    "So how can we solve this NP problem efficiently? Well there is a widley known question called \"P vs NP\" which is about whether P=NP, or in other words problems being easy to solve is the same as problems having solutions that are easy to check. Common sense would suggest that this is not the case. If P=NP that would mean that there is an efficient solution problems which are considered NP. Most people agree that P is not equal to NP however this has not yet been fully proven.\n",
    "\n",
    "![pvsnp](https://miro.medium.com/max/1190/1*5hGX6TN4bUEZX0FpMxZHfQ.png)\n",
    "\n",
    "That is why the answer to the P vs NP problem is considered by many to be the most important open problem in computer science. It is one of the seven Millennium Prize Problems and anyone who can solve it will be awarded one million USD. If anyone were able to show that P is equal to NP, it would make very difficult real-world problems dramatically easier for computers. There would be profound implications for many sectors such as mathematics, artificial intelligence, economics, etc."
   ]
  },
  {
   "cell_type": "markdown",
   "id": "cf1af7aa",
   "metadata": {},
   "source": [
    "<b>Reference: https://en.wikipedia.org/wiki/Complexity_class, https://simple.wikipedia.org/wiki/P_versus_NP</b>"
   ]
  },
  {
   "cell_type": "markdown",
   "id": "c2f9d08e",
   "metadata": {},
   "source": [
    "# How do we determine if two graphs are isomorphic"
   ]
  },
  {
   "cell_type": "markdown",
   "id": "4e199ebd",
   "metadata": {},
   "source": [
    "Its often easier to show that two graphs are not isomorphic than it is to show that they are. For any two graphs to be isomorphic, there are a few widely accepted conditions which must be satisfied. In the following example we will mention the main four. We can quickly check if these conditions are met to see if we can quickly elimate the possability of two graphs being isomorphic:\n",
    "\n",
    "* Number of vertices in both the graphs must be same.\n",
    "* Number of edges in both the graphs must be same.\n",
    "* Degree sequence of both the graphs must be same.\n",
    "* If a cycle of length L is formed by the adjacent vertices(of equal degree) in one graph, then a cycle of same length L must be formed by the adjacent vertices(of equal degree) in the other graph as well.\n",
    "\n",
    "A cycle in a graph is a non-empty trail in which only the first and last vertices are equal. In other words, we need to be able to find a path through the vertices where each vertex we pass is unique to the ones previously passed except for the first and last vertices.\n",
    "\n",
    "<b>Reference: https://www.youtube.com/watch?v=ieHxZ_W57z0 Timestamp 4:06</b>"
   ]
  },
  {
   "cell_type": "markdown",
   "id": "4b309369",
   "metadata": {},
   "source": [
    "First, lets consider the two graps from graph set 1 (G1 and G2)."
   ]
  },
  {
   "cell_type": "markdown",
   "id": "8e159301",
   "metadata": {},
   "source": [
    "### Code Setup"
   ]
  },
  {
   "cell_type": "code",
   "execution_count": 53,
   "id": "4aab0c83",
   "metadata": {},
   "outputs": [],
   "source": [
    "# Plots.\n",
    "import matplotlib.pyplot as plt\n",
    "\n",
    "# Graphs library.\n",
    "import networkx as nx\n",
    "\n",
    "# Resize plots.\n",
    "plt.rcParams['figure.figsize'] = (6, 6)\n",
    "\n",
    "# Networkx parameters for drawing graphs.\n",
    "params = {'node_color': 'lightcoral', 'node_size': 800, 'font_size': 18, 'with_labels': True}"
   ]
  },
  {
   "cell_type": "markdown",
   "id": "2d5ff2ff",
   "metadata": {},
   "source": [
    "## Graph Set 1"
   ]
  },
  {
   "cell_type": "markdown",
   "id": "259f1894",
   "metadata": {},
   "source": [
    "### Graph - G1"
   ]
  },
  {
   "cell_type": "code",
   "execution_count": 54,
   "id": "b9ab44bd",
   "metadata": {
    "scrolled": false
   },
   "outputs": [
    {
     "data": {
      "image/png": "[encoded data removed]",
      "text/plain": [
       "<Figure size 432x432 with 1 Axes>"
      ]
     },
     "metadata": {},
     "output_type": "display_data"
    }
   ],
   "source": [
    "# Create an empty graph.\n",
    "G1 = nx.Graph()\n",
    "\n",
    "# Create a set of edges.\n",
    "E = ((1, 2),(2,3),(3,4),(4,1),(1,5),(5,6),(6,7),(7,8),(8,5),(7,3))\n",
    "\n",
    "# The nodes are created as required, based on E.\n",
    "G1.add_edges_from(E)\n",
    "\n",
    "# Draw G1.\n",
    "nx.draw_circular(G1, **params)"
   ]
  },
  {
   "cell_type": "markdown",
   "id": "c83ec383",
   "metadata": {},
   "source": [
    "### Graph - G2"
   ]
  },
  {
   "cell_type": "code",
   "execution_count": 55,
   "id": "d52332ae",
   "metadata": {
    "scrolled": false
   },
   "outputs": [
    {
     "data": {
      "image/png": "[encoded data removed]",
      "text/plain": [
       "<Figure size 432x432 with 1 Axes>"
      ]
     },
     "metadata": {},
     "output_type": "display_data"
    }
   ],
   "source": [
    "# Create an empty graph.\n",
    "G2 = nx.Graph()\n",
    "\n",
    "# Create a set of edges.\n",
    "E = ((1, 2),(2,3),(3,4),(4,1),(1,5),(5,6),(6,7),(7,8),(8,5),(6,2))\n",
    "\n",
    "# The nodes are created as required, based on E.\n",
    "G2.add_edges_from(E)\n",
    "\n",
    "# Draw G.\n",
    "nx.draw_circular(G2, **params)"
   ]
  },
  {
   "cell_type": "markdown",
   "id": "f05457f1",
   "metadata": {},
   "source": [
    "<b>The number of vertices.</b> If the two graphs have a different number of vertices then the graphs are not isomorphic. G1 has eight verticies. G2 also has eight verticies. \n",
    "Thus far, it is possible that these two graphs are isomorphic."
   ]
  },
  {
   "cell_type": "markdown",
   "id": "b1dd7349",
   "metadata": {},
   "source": [
    "\n",
    "<b>Number of edges in both the graphs must be same.</b> We can quickly see that graph G1 has a total of 10 edges connecting all the vertices. Similarly, graph G2 has a total of 10 edges connecting all the vertices.\n",
    "Thus far, it is still possible that these two graphs are isomorphic."
   ]
  },
  {
   "cell_type": "markdown",
   "id": "14e60c15",
   "metadata": {},
   "source": [
    "\n",
    "<b>Degree sequence of both the graphs must be same.</b> Graph G1 has four vertices with a degree of two. The remaining four vertices have a a degree of three. Hence the degree sequence is (2,2,2,2,3,3,3,3).\n",
    "Graph G2 also has four vertices with a degree of two and also has four vertices with a degree of three. Hence the degree sequence is (2,2,2,2,3,3,3,3). \n",
    "Thus far, it is still possible that these two graphs are isomorphic."
   ]
  },
  {
   "cell_type": "markdown",
   "id": "0ce27c3e",
   "metadata": {},
   "source": [
    "<b>If a cycle of length L is formed by the adjacent vertices(of equal degree) in one graph, then a cycle of same length L must be formed by the adjacent vertices(of equal degree) in the other graph as well.</b> \n",
    "\n",
    "The order in which vertices are passed does not matter, all that matters is you move to an adjacent vertices next. On G2, starting from vertex 1 we see it has a degree of three. Follow its neighbours, which only have degrees of three, until you return to the starting vertex. The vertex sequence to follow is (V1,V5,V6,V2,V1). Hence, there is a cycle of length 4 as there are 4 unique vertices in the path.\n",
    "\n",
    "Now try find a sequence of vertices on G1 which is of the same length. In graph G1, degree-3 vertices do not form a cycle as the vertices are not adjacent. Both the graphs G1 and G2 do not contain same cycles in them and therefore are not isomorphic."
   ]
  },
  {
   "cell_type": "code",
   "execution_count": null,
   "id": "bfb898e8",
   "metadata": {},
   "outputs": [],
   "source": []
  }
 ],
 "metadata": {
  "kernelspec": {
   "display_name": "Python 3 (ipykernel)",
   "language": "python",
   "name": "python3"
  },
  "language_info": {
   "codemirror_mode": {
    "name": "ipython",
    "version": 3
   },
   "file_extension": ".py",
   "mimetype": "text/x-python",
   "name": "python",
   "nbconvert_exporter": "python",
   "pygments_lexer": "ipython3",
   "version": "3.9.7"
  }
 },
 "nbformat": 4,
 "nbformat_minor": 5
}
