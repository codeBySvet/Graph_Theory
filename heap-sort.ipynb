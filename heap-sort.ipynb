{
 "cells": [
  {
   "cell_type": "markdown",
   "id": "923d5134",
   "metadata": {},
   "source": [
    "\n",
    "## WIP - improvements\n",
    "\n",
    "Notable TODOs:\n",
    "\n",
    "• Explanation of the Heap Sort algorithm.\n",
    "\n",
    "• Python function implementing Heap Sort.\n",
    "\n",
    "• Explanation of the computational complexity of Heap Sort.\n",
    "\n",
    "• Explanation of how graph theory is used in Heap Sort.\n"
   ]
  },
  {
   "cell_type": "markdown",
   "id": "a690f73f",
   "metadata": {},
   "source": [
    "# Heap Sort Algorithm\n",
    "\n",
    "\n",
    "## Purpose\n",
    "The purpose of this notebook is to explain and implement(using Python) the Heap Sort algorithm. Also, to explain its computational complexity and how graph theory is used in Heap Sort\n",
    "\n",
    "## Methodology\n",
    "Although an in depth knowledge of a sorting algorithems or the Python coding language is not required, it is assumed that the reader has a basic understanding of code and computational knowledge."
   ]
  },
  {
   "cell_type": "markdown",
   "id": "43d9d478",
   "metadata": {},
   "source": [
    "## What is Heap Sort?\n",
    "\n",
    "Heap sort is a sorting algorithm based on the binary heap data structure. Sorting is a process of arranging entities in a particular order, i.e. ascending, descending, or alphabetical order. \n",
    "\n",
    "Data structure sorting is concerned with the arrangement of data. There are different sorting algorithms that depend on various factors like data structure, complexity, etc. One of the popular sorting algorithms that we are going to discuss here is the Heap Sort.\n",
    "\n",
    "In order to fully understand how heap sort works, we first have to understand a **binary heap** and subsequently, a **binary tree**.\n",
    "\n"
   ]
  },
  {
   "cell_type": "markdown",
   "id": "a0bd6407",
   "metadata": {},
   "source": [
    "### Binary tree\n",
    "\n",
    "A binary tree is a tree-type non-linear data structure with a maximum of two children for each parent. Every node in a binary tree has a left and right reference along with the data element. The node at the top of the hierarchy of a tree is called the root node. The nodes that hold other sub-nodes are the parent nodes.\n"
   ]
  },
  {
   "cell_type": "markdown",
   "id": "8e20725d",
   "metadata": {},
   "source": [
    "[![Binary-Tree1.png](https://i.postimg.cc/B6YMrPz4/Binary-Tree1.png)](https://postimg.cc/tZ63PJyM)\n",
    "\n",
    "Reference- https://www.tutorialspoint.com/data_structures_algorithms/tree_data_structure.htm\n"
   ]
  },
  {
   "cell_type": "markdown",
   "id": "12c68ca8",
   "metadata": {},
   "source": [
    "The following are the important terms with respect to Binary trees:\n",
    "\n",
    "- **Path** - Path refers to the sequence of nodes along the edges of a tree.\n",
    "- **Root** - The node at the top of the tree is called root. There is only one root per tree and one path from the root node to any node.\n",
    "- **Parent Node** − Any node except the root node has one edge upward to a node called parent.\n",
    "- **Child Node** − The node below a given node connected by its edge downward is called its child node.\n",
    "- **Leaf Node** − The node which does not have any child node is called the leaf node.\n",
    "- **Sub-tree** − Subtree represents the descendants of a node.\n"
   ]
  },
  {
   "cell_type": "markdown",
   "id": "9868bcaa",
   "metadata": {},
   "source": [
    "### Binary heap\n",
    "A binary heap is simply a complete binary tree, in which each level of the tree (except, perhaps, the last level) is completely filled and all nodes are stored starting from the left to right. \n",
    "\n",
    "A binary heap also takes into account how the values are stored. Either the value of the parent node is always greater than the value of its children (called a max heap), or vice versa, where the value of the parent is smaller than that of its children (called a min heap). \n"
   ]
  },
  {
   "cell_type": "markdown",
   "id": "4db5b33d",
   "metadata": {},
   "source": [
    "<br>"
   ]
  },
  {
   "cell_type": "markdown",
   "id": "bdda60dc",
   "metadata": {},
   "source": [
    "# Implementation of Heap Sort\n",
    "The heap sort algorithm has two main steps. Both are described in  further detail below:\n",
    "\n",
    "1. **Build a max heap from the available data points.**\n",
    "2. **Switch the root node with the last node, and remove it from the heap.** \n",
    "\n",
    "(Repeat these two steps until there is only one element is remaining). \n"
   ]
  },
  {
   "cell_type": "markdown",
   "id": "a3cc7a2c",
   "metadata": {},
   "source": [
    "## Step 1: Build a max heap from the data.\n",
    "In this example, we will be using a max heap instead of min heap. In order to create a max heap, we must compare the value of this parent node with its children. If the value of the child is greater than the parent, then swap them. This process is repeated until all parent nodes have a greater value than their children."
   ]
  },
  {
   "cell_type": "markdown",
   "id": "d36b19bb",
   "metadata": {},
   "source": []
  },
  {
   "cell_type": "markdown",
   "id": "d8fedbb0",
   "metadata": {},
   "source": [
    "The video below offers a visual guide for this first step of Heap Sort:"
   ]
  },
  {
   "cell_type": "code",
   "execution_count": 1,
   "id": "9390157c",
   "metadata": {
    "scrolled": false
   },
   "outputs": [
    {
     "data": {
      "image/jpeg": "[encoded data removed]",
      "text/html": [
       "\n",
       "        <iframe\n",
       "            width=\"800\"\n",
       "            height=\"500\"\n",
       "            src=\"https://www.youtube.com/embed/yehkKyDFIw0\"\n",
       "            frameborder=\"0\"\n",
       "            allowfullscreen\n",
       "            \n",
       "        ></iframe>\n",
       "        "
      ],
      "text/plain": [
       "<IPython.lib.display.YouTubeVideo at 0x7f897057dd30>"
      ]
     },
     "execution_count": 1,
     "metadata": {},
     "output_type": "execute_result"
    }
   ],
   "source": [
    "from IPython.display import YouTubeVideo\n",
    "id='yehkKyDFIw0'\n",
    "YouTubeVideo(id=id,width=800,height=500)"
   ]
  },
  {
   "cell_type": "markdown",
   "id": "04589426",
   "metadata": {},
   "source": [
    "Reference - I created an edited version from the following original video https://www.youtube.com/watch?v=MtQL_ll5KhQ&t=10s"
   ]
  },
  {
   "cell_type": "markdown",
   "id": "2b953db6",
   "metadata": {},
   "source": [
    "## Code snippet for building a Max Heap\n",
    "Please note - The following code is not a complete implementation of Heap Sort. It is only an implementation of the first part of heapsort(building the Max Heap). Later on, when we look at the second half of heapsort, we will add more code to this snippet for a full implementation of Heap Sort."
   ]
  },
  {
   "cell_type": "code",
   "execution_count": 2,
   "id": "ff850634",
   "metadata": {},
   "outputs": [],
   "source": [
    "# heapify is the process of creating a heap data structure from a binary tree through\n",
    "# recursive operations of sorting existing elements.\n",
    "def heapify(arr, n, root):\n",
    "         \n",
    "        # Find largest element among root and children\n",
    "        largest = root\n",
    "        \n",
    "        # Find the left and right children of the root.\n",
    "        leftChild = 2 * root + 1\n",
    "        rightChild = 2 * root + 2\n",
    "        \n",
    "        # check if the left child of the root exists and if it is greater than root \n",
    "        if leftChild < n and arr[root] < arr[leftChild]:\n",
    "            largest = leftChild\n",
    "\n",
    "        # check if the right child of the root exists and is it is greater than root \n",
    "        if rightChild < n and arr[largest] < arr[rightChild]:\n",
    "            largest = rightChild\n",
    "\n",
    "        # If the root is not the largest, swap it with largest and keep heapifying\n",
    "        if (largest != root):\n",
    "            arr[root], arr[largest] = arr[largest], arr[root]\n",
    "            \n",
    "            # Heapify the root. \n",
    "            heapify(arr, n, largest)\n",
    "  "
   ]
  },
  {
   "cell_type": "code",
   "execution_count": 3,
   "id": "673ac8e1",
   "metadata": {},
   "outputs": [],
   "source": [
    "# In this implementation, heapSort() calls heapify() within a single for loop. The end \n",
    "# result will be a max heap. However, the resulting elements will not be sorted in ascending order. \n",
    "\n",
    "def heapSort(arr): \n",
    "    # First, we need to get the size(length) of the list being passed down\n",
    "    n = len(arr) \n",
    "  \n",
    "    # Itterate through the elements and heapify them. The resulting list of elements will be sorted\n",
    "    # in a max heap fashion.\n",
    "    for i in range(n, -1, -1): \n",
    "        heapify(arr, n, i) "
   ]
  },
  {
   "cell_type": "markdown",
   "id": "e7e469cd",
   "metadata": {},
   "source": [
    "### Driver Code:"
   ]
  },
  {
   "cell_type": "code",
   "execution_count": 12,
   "id": "251705cd",
   "metadata": {},
   "outputs": [
    {
     "name": "stdout",
     "output_type": "stream",
     "text": [
      "Binary Tree:\n",
      "1 4 68 37 10 6 39 12 5 \n",
      "\n",
      "Max Heap:\n",
      "1 4 5 6 10 12 37 39 68 "
     ]
    }
   ],
   "source": [
    "arr = [1,4,68,37,10,6,39,12,5]\n",
    "n = len(arr)\n",
    "\n",
    "# Iterating through the list and printing out each elements value\n",
    "print(\"Binary Tree:\")\n",
    "for i in range(n):\n",
    "    print(\"%d \" % arr[i], end='')\n",
    "\n",
    "# Creating Max Heap from existing list of elements\n",
    "heapSort(arr)\n",
    "\n",
    "# Iterating through the list and printing out each elements value\n",
    "print(\"\\n\\nMax Heap:\")\n",
    "for i in range(n):\n",
    "    print(\"%d \" % arr[i], end='')"
   ]
  },
  {
   "cell_type": "markdown",
   "id": "b55fdfd7",
   "metadata": {},
   "source": [
    "At this point, the binary heap has been converted into a max heap. For an easier visualisation, please refer to the diagrams below showing the before and after of the binary tree for this data set:"
   ]
  },
  {
   "cell_type": "markdown",
   "id": "3a031846",
   "metadata": {},
   "source": [
    "[![t4.png](https://i.postimg.cc/QC2Rddpv/t4.png)](https://postimg.cc/n91ddZS1)"
   ]
  },
  {
   "cell_type": "markdown",
   "id": "a7e9e606",
   "metadata": {},
   "source": [
    "[![t2.png](https://i.postimg.cc/nzHDDVh9/t2.png)](https://postimg.cc/FfBzt4ch)"
   ]
  },
  {
   "cell_type": "markdown",
   "id": "3469209e",
   "metadata": {},
   "source": [
    "Reference - These images are original. Created using https://www.lucidchart.com/\n",
    "<br>\n",
    "<br>"
   ]
  },
  {
   "cell_type": "markdown",
   "id": "aa9c6002",
   "metadata": {},
   "source": [
    "## Step 2: Switch the root node with the last node, and remove it from the max heap\n",
    "Since the tree satisfies Max-Heap property, then the largest item is stored at the root node.The following are the next steps:\n",
    "\n",
    "* Remove the root element and put at the end of the array (nth position) \n",
    "* Put the last item of the tree (heap) at the vacant place.\n",
    "* Heapify the root element again so that we have the highest element at root.\n",
    "\n",
    "The process is repeated until all the items of the list are sorted. The video below offers a visual guide for this second step of Heap Sort:"
   ]
  },
  {
   "cell_type": "code",
   "execution_count": 5,
   "id": "065f5c0d",
   "metadata": {
    "scrolled": false
   },
   "outputs": [
    {
     "data": {
      "image/jpeg": "[encoded data removed]",
      "text/html": [
       "\n",
       "        <iframe\n",
       "            width=\"800\"\n",
       "            height=\"500\"\n",
       "            src=\"https://www.youtube.com/embed/qoiajKBX8i4\"\n",
       "            frameborder=\"0\"\n",
       "            allowfullscreen\n",
       "            \n",
       "        ></iframe>\n",
       "        "
      ],
      "text/plain": [
       "<IPython.lib.display.YouTubeVideo at 0x7f8950028790>"
      ]
     },
     "execution_count": 5,
     "metadata": {},
     "output_type": "execute_result"
    }
   ],
   "source": [
    "id='qoiajKBX8i4'\n",
    "YouTubeVideo(id=id,width=800,height=500)"
   ]
  },
  {
   "cell_type": "markdown",
   "id": "1983b742",
   "metadata": {},
   "source": [
    "Reference - I created an edited version from the following original video https://www.youtube.com/watch?v=MtQL_ll5KhQ&t=10s"
   ]
  },
  {
   "cell_type": "markdown",
   "id": "212b2f57",
   "metadata": {},
   "source": [
    "## Code snippet for swapping nodes and removing them from the heap\n",
    "\n",
    "Please note - Here, we are completing the code required for a full implementation of Heap Sort. We only need to re-define the heapsort() method in order to include the further required code (the second for loop)."
   ]
  },
  {
   "cell_type": "code",
   "execution_count": 13,
   "id": "65b0f834",
   "metadata": {},
   "outputs": [],
   "source": [
    "# calls heapify() within two for loops. \n",
    "# The first for-loop sorts the list of elements into a max heap, the second sorts  \n",
    "# the elements in an ascending order.\n",
    "\n",
    "def heapSort(arr): \n",
    "    # First, we need to get the size(length) of the list being passed down\n",
    "    n = len(arr) \n",
    "  \n",
    "    # Itterate through the elements and heapify them. The resulting list of elements will be sorted\n",
    "    # in a max heap fashion.\n",
    "    for i in range(n, -1, -1): \n",
    "        heapify(arr, n, i) \n",
    "  \n",
    "    # One by one extract elements \n",
    "    for i in range(n-1, 0, -1): \n",
    "        arr[i], arr[0] = arr[0], arr[i] # swap\n",
    "\n",
    "        #Heapify root element\n",
    "        heapify(arr, i, 0)   "
   ]
  },
  {
   "cell_type": "code",
   "execution_count": 7,
   "id": "adcfae98",
   "metadata": {},
   "outputs": [
    {
     "name": "stdout",
     "output_type": "stream",
     "text": [
      "\n",
      "Sorted list is\n",
      "1 4 5 6 10 12 37 39 68 "
     ]
    }
   ],
   "source": [
    "heapSort(arr)\n",
    "\n",
    "n = len(arr)\n",
    "print(\"\\nSorted list is\")\n",
    "for i in range(n):\n",
    "  print(\"%d \" % arr[i], end='')"
   ]
  },
  {
   "cell_type": "markdown",
   "id": "1e61b502",
   "metadata": {},
   "source": [
    "As can be seen from the output above, the list is sorted. "
   ]
  },
  {
   "cell_type": "markdown",
   "id": "bc19046e",
   "metadata": {},
   "source": [
    "## Full code implementation for Heapsort"
   ]
  },
  {
   "cell_type": "code",
   "execution_count": 8,
   "id": "6f749635",
   "metadata": {},
   "outputs": [
    {
     "name": "stdout",
     "output_type": "stream",
     "text": [
      "1 4 5 6 10 12 37 39 68 "
     ]
    }
   ],
   "source": [
    "def heapify(arr, n, root):\n",
    "         \n",
    "    # Find largest element among root and children\n",
    "    largest = root\n",
    "\n",
    "    # Find the left and right children of the root.\n",
    "    leftChild = 2 * root + 1\n",
    "    rightChild = 2 * root + 2\n",
    "\n",
    "    # check if the left child of the root exists and if it is greater than root \n",
    "    if leftChild < n and arr[root] < arr[leftChild]:\n",
    "        largest = leftChild\n",
    "\n",
    "    # check if the right child of the root exists and is it is greater than root \n",
    "    if rightChild < n and arr[largest] < arr[rightChild]:\n",
    "        largest = rightChild\n",
    "\n",
    "    # If the root is not the largest, swap it with largest and keep heapifying\n",
    "    if (largest != root):\n",
    "        arr[root], arr[largest] = arr[largest], arr[root]\n",
    "\n",
    "        # Heapify the root. \n",
    "        heapify(arr, n, largest)\n",
    "\n",
    "def heapSort(arr): \n",
    "    # First, we need to get the size(length) of the list being passed down\n",
    "    n = len(arr) \n",
    "  \n",
    "    # Itterate through the elements and heapify them. The resulting list of elements will be sorted\n",
    "    # in a max heap fashion.\n",
    "    for i in range(n, -1, -1): \n",
    "        heapify(arr, n, i) \n",
    "  \n",
    "    # One by one extract elements \n",
    "    for i in range(n-1, 0, -1): \n",
    "        arr[i], arr[0] = arr[0], arr[i] # swap\n",
    "\n",
    "        #Heapify root element\n",
    "        heapify(arr, i, 0) \n",
    "  \n",
    "\n",
    "\n",
    "#Driver Code\n",
    "arr = [1,4,68,37,10,6,39,12,5]\n",
    "n = len(arr)\n",
    "\n",
    "heapSort(arr)\n",
    "for i in range(n):\n",
    "    print(\"%d \" % arr[i], end='')\n",
    "\n",
    "\n"
   ]
  },
  {
   "cell_type": "markdown",
   "id": "17dd0f76",
   "metadata": {},
   "source": [
    "# Computational complexity of Heap Sort.\n"
   ]
  },
  {
   "cell_type": "markdown",
   "id": "00edf35a",
   "metadata": {},
   "source": [
    "## Time complexity of Heap Sort.\n"
   ]
  },
  {
   "cell_type": "markdown",
   "id": "fdcc6de5",
   "metadata": {},
   "source": [
    "To explain the computational complexity of an algorithem we must us Big O notation. At its most basic level, Big O notation defines how long it takes an algorithm to run, also called time complexity. It represents how long the runtime for a given algorithm can be as the data grows larger. \n"
   ]
  },
  {
   "cell_type": "markdown",
   "id": "04f846d8",
   "metadata": {},
   "source": [
    "You may be wondering why anyone cares enough to calculate the speed of an algorithm except to show off, but as programs grow in size, these tiny milliseconds add up. Suddenly an algorithm that used to take no time at all starts to bog everything down, so programmers need to know what the “worst-case scenario” is, or rather, the slowest an algorithm will run given a growing list of data. \n",
    "\n",
    "The following chart is a good reference for the different levels of complexity in Big O:"
   ]
  },
  {
   "cell_type": "markdown",
   "id": "e63fdc32",
   "metadata": {},
   "source": [
    "[![big-o.jpg](https://i.postimg.cc/4NSFc3Kf/big-o.jpg)](https://postimg.cc/vc5zFbLk)"
   ]
  },
  {
   "cell_type": "markdown",
   "id": "f3b7bf3b",
   "metadata": {},
   "source": [
    "# Placeholder Title\n",
    "Placeholder Text"
   ]
  },
  {
   "cell_type": "markdown",
   "id": "9ccd30d2",
   "metadata": {},
   "source": [
    "# Placeholder Title\n",
    "Placeholder Text"
   ]
  },
  {
   "cell_type": "markdown",
   "id": "c4d866ee",
   "metadata": {},
   "source": [
    "# References\n",
    "We report here relevant references:\n",
    "1. \n",
    "2. "
   ]
  },
  {
   "cell_type": "code",
   "execution_count": null,
   "id": "54efb9cb",
   "metadata": {},
   "outputs": [],
   "source": []
  },
  {
   "cell_type": "code",
   "execution_count": null,
   "id": "01559ae4",
   "metadata": {},
   "outputs": [],
   "source": []
  }
 ],
 "metadata": {
  "kernelspec": {
   "display_name": "Python 3 (ipykernel)",
   "language": "python",
   "name": "python3"
  },
  "language_info": {
   "codemirror_mode": {
    "name": "ipython",
    "version": 3
   },
   "file_extension": ".py",
   "mimetype": "text/x-python",
   "name": "python",
   "nbconvert_exporter": "python",
   "pygments_lexer": "ipython3",
   "version": "3.9.7"
  }
 },
 "nbformat": 4,
 "nbformat_minor": 5
}
