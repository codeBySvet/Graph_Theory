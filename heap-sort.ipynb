{
 "cells": [
  {
   "cell_type": "markdown",
   "id": "923d5134",
   "metadata": {},
   "source": [
    "\n",
    "## WIP - improvements\n",
    "\n",
    "Notable TODOs:\n",
    "\n",
    "• Explanation of the Heap Sort algorithm.\n",
    "\n",
    "• Python function implementing Heap Sort.\n",
    "\n",
    "• Explanation of the computational complexity of Heap Sort.\n",
    "\n",
    "• Explanation of how graph theory is used in Heap Sort.\n"
   ]
  },
  {
   "cell_type": "markdown",
   "id": "a690f73f",
   "metadata": {},
   "source": [
    "# Heap Sort Algorithm\n",
    "\n",
    "\n",
    "## Purpose\n",
    "The purpose of this notebook is to explain and implement(using Python) the Heap Sort algorithm. Also, to explain its computational complexity and how graph theory is used in Heap Sort\n",
    "\n",
    "## Methodology\n",
    "Although an in depth knowledge of a sorting algorithems or the Python coding language is not required, it is assumed that the reader has a basic understanding of code and computational knowledge."
   ]
  },
  {
   "cell_type": "markdown",
   "id": "43d9d478",
   "metadata": {},
   "source": [
    "## What is Heap Sort?\n",
    "\n",
    "Heap sort is a sorting algorithm based on the binary heap data structure. Sorting is a process of arranging entities in a particular order, i.e. ascending, descending, or alphabetical order. \n",
    "\n",
    "Data structure sorting is concerned with the arrangement of data. There are different sorting algorithms that depend on various factors like data structure, complexity, etc. One of the popular sorting algorithms that we are going to discuss here is the Heap Sort.\n",
    "\n",
    "In order to fully understand how heap sort works, we first have to understand a **binary heap** and subsequently, a **binary tree**.\n",
    "\n"
   ]
  },
  {
   "cell_type": "markdown",
   "id": "a0bd6407",
   "metadata": {},
   "source": [
    "### Binary tree\n",
    "\n",
    "A binary tree is a tree-type non-linear data structure with a maximum of two children for each parent. Every node in a binary tree has a left and right reference along with the data element. The node at the top of the hierarchy of a tree is called the root node. The nodes that hold other sub-nodes are the parent nodes.\n"
   ]
  },
  {
   "cell_type": "markdown",
   "id": "8e20725d",
   "metadata": {},
   "source": [
    "[![Binary-Tree1.png](https://i.postimg.cc/B6YMrPz4/Binary-Tree1.png)](https://postimg.cc/tZ63PJyM)\n",
    "\n",
    "Reference- https://www.tutorialspoint.com/data_structures_algorithms/tree_data_structure.htm\n"
   ]
  },
  {
   "cell_type": "markdown",
   "id": "12c68ca8",
   "metadata": {},
   "source": [
    "The following are the important terms with respect to Binary trees:\n",
    "\n",
    "- **Path** - Path refers to the sequence of nodes along the edges of a tree.\n",
    "- **Root** - The node at the top of the tree is called root. There is only one root per tree and one path from the root node to any node.\n",
    "- **Parent Node** − Any node except the root node has one edge upward to a node called parent.\n",
    "- **Child Node** − The node below a given node connected by its edge downward is called its child node.\n",
    "- **Leaf Node** − The node which does not have any child node is called the leaf node.\n",
    "- **Sub-tree** − Subtree represents the descendants of a node.\n"
   ]
  },
  {
   "cell_type": "markdown",
   "id": "9868bcaa",
   "metadata": {},
   "source": [
    "### Binary heap\n",
    "A binary heap is simply a complete binary tree, in which each level of the tree (except, perhaps, the last level) is completely filled and all nodes are stored starting from the left to right. \n",
    "\n",
    "A binary heap also takes into account how the values are stored. Either the value of the parent node is always greater than the value of its children (called a max heap), or vice versa, where the value of the parent is smaller than that of its children (called a min heap). \n"
   ]
  },
  {
   "cell_type": "markdown",
   "id": "4db5b33d",
   "metadata": {},
   "source": [
    "<br>"
   ]
  },
  {
   "cell_type": "markdown",
   "id": "bdda60dc",
   "metadata": {},
   "source": [
    "# Implementation of Heap Sort\n",
    "The heap sort algorithm has two main steps. Both are described in  further detail below:\n",
    "\n",
    "1. **Build a max heap from the available data points.**\n",
    "2. **Switch the root node with the last node, and remove it from the heap.** \n",
    "\n",
    "(Repeat these two steps until there is only one element is remaining). \n"
   ]
  },
  {
   "cell_type": "markdown",
   "id": "a3cc7a2c",
   "metadata": {},
   "source": [
    "## Step 1: Build a max heap from the data.\n",
    "In this example, we will be using a max heap instead of min heap. In order to create a max heap, we must compare the value of this parent node with its child. If the value of the child is greater than the parent, then swap them. This process is repeated until all parent nodes have a greater value than their children.\n",
    "\n",
    "This video shows the process of creating a binary tree from an array of data. Then, the binary tree is sorted into a max heap. \n",
    "\n"
   ]
  },
  {
   "cell_type": "code",
   "execution_count": 1,
   "id": "9390157c",
   "metadata": {
    "scrolled": false
   },
   "outputs": [
    {
     "data": {
      "text/html": [
       "\n",
       "        <iframe\n",
       "            width=\"800\"\n",
       "            height=\"500\"\n",
       "            src=\"https://www.youtube.com/embed/yehkKyDFIw0\"\n",
       "            frameborder=\"0\"\n",
       "            allowfullscreen\n",
       "            \n",
       "        ></iframe>\n",
       "        "
      ],
      "text/plain": [
       "<IPython.lib.display.YouTubeVideo at 0x7fea81c995e0>"
      ]
     },
     "execution_count": 1,
     "metadata": {},
     "output_type": "execute_result"
    }
   ],
   "source": [
    "from IPython.display import YouTubeVideo\n",
    "id='yehkKyDFIw0'\n",
    "YouTubeVideo(id=id,width=800,height=500)"
   ]
  },
  {
   "cell_type": "markdown",
   "id": "04589426",
   "metadata": {},
   "source": [
    "Reference - https://www.youtube.com/watch?v=MtQL_ll5KhQ&t=10s"
   ]
  },
  {
   "cell_type": "markdown",
   "id": "2b953db6",
   "metadata": {},
   "source": [
    "## Code Snippet"
   ]
  },
  {
   "cell_type": "markdown",
   "id": "ccac6fe8",
   "metadata": {},
   "source": [
    "< CODE IN HERE >"
   ]
  },
  {
   "cell_type": "markdown",
   "id": "b55fdfd7",
   "metadata": {},
   "source": [
    "At this point, the binary heap has been converted into a max heap. \n",
    "\n",
    "For an easier visualisation, please refer to the diagrams below showing the before and after of the binary tree for this data set:"
   ]
  },
  {
   "cell_type": "markdown",
   "id": "3a031846",
   "metadata": {},
   "source": [
    "[![t4.png](https://i.postimg.cc/QC2Rddpv/t4.png)](https://postimg.cc/n91ddZS1)"
   ]
  },
  {
   "cell_type": "markdown",
   "id": "a7e9e606",
   "metadata": {},
   "source": [
    "[![t2.png](https://i.postimg.cc/nzHDDVh9/t2.png)](https://postimg.cc/FfBzt4ch)"
   ]
  },
  {
   "cell_type": "code",
   "execution_count": null,
   "id": "ee1e94a1",
   "metadata": {},
   "outputs": [],
   "source": []
  },
  {
   "cell_type": "markdown",
   "id": "aa9c6002",
   "metadata": {},
   "source": [
    "## Step 2: Switch the root node with the last node, and remove it from the max heap\n",
    "In this example, we will be using a max heap instead of min heap. In order to create a max heap, we must compare the value of this parent node with its child. If the value of the child is greater than the parent, then swap them. This process is repeated until all parent nodes have a greater value than their children.\n",
    "\n",
    "This video shows the process of creating a binary tree from an array of data. Then, the binary tree is sorted into a max heap. \n",
    "Import video from youtube "
   ]
  },
  {
   "cell_type": "code",
   "execution_count": null,
   "id": "065f5c0d",
   "metadata": {
    "scrolled": false
   },
   "outputs": [],
   "source": [
    "id='qoiajKBX8i4'\n",
    "YouTubeVideo(id=id,width=800,height=500)"
   ]
  },
  {
   "cell_type": "markdown",
   "id": "1983b742",
   "metadata": {},
   "source": [
    "Reference - https://www.youtube.com/watch?v=MtQL_ll5KhQ&t=10s"
   ]
  },
  {
   "cell_type": "markdown",
   "id": "429bcdc7",
   "metadata": {},
   "source": [
    "## Code Snippet"
   ]
  },
  {
   "cell_type": "markdown",
   "id": "ccac6fe8",
   "metadata": {},
   "source": [
    "< CODE IN HERE >"
   ]
  },
  {
   "cell_type": "code",
   "execution_count": null,
   "id": "8010d93b",
   "metadata": {},
   "outputs": [],
   "source": []
  },
  {
   "cell_type": "markdown",
   "id": "f3b7bf3b",
   "metadata": {},
   "source": [
    "# Placeholder Title\n",
    "Placeholder Text"
   ]
  },
  {
   "cell_type": "markdown",
   "id": "9ccd30d2",
   "metadata": {},
   "source": [
    "# Placeholder Title\n",
    "Placeholder Text"
   ]
  },
  {
   "cell_type": "markdown",
   "id": "c4d866ee",
   "metadata": {},
   "source": [
    "# References\n",
    "We report here relevant references:\n",
    "1. \n",
    "2. "
   ]
  },
  {
   "cell_type": "code",
   "execution_count": null,
   "id": "54efb9cb",
   "metadata": {},
   "outputs": [],
   "source": []
  },
  {
   "cell_type": "code",
   "execution_count": null,
   "id": "01559ae4",
   "metadata": {},
   "outputs": [],
   "source": []
  }
 ],
 "metadata": {
  "kernelspec": {
   "display_name": "Python 3 (ipykernel)",
   "language": "python",
   "name": "python3"
  },
  "language_info": {
   "codemirror_mode": {
    "name": "ipython",
    "version": 3
   },
   "file_extension": ".py",
   "mimetype": "text/x-python",
   "name": "python",
   "nbconvert_exporter": "python",
   "pygments_lexer": "ipython3",
   "version": "3.9.7"
  }
 },
 "nbformat": 4,
 "nbformat_minor": 5
}
