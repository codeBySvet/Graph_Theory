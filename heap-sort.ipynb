{
 "cells": [
  {
   "cell_type": "markdown",
   "id": "2391e2a2",
   "metadata": {},
   "source": [
    "### Imports"
   ]
  },
  {
   "cell_type": "code",
   "execution_count": 1,
   "id": "308d5d73",
   "metadata": {},
   "outputs": [],
   "source": [
    "# Import matplotlib\n",
    "import matplotlib.pyplot as plt\n",
    "# Import networkx\n",
    "import networkx as nx\n",
    "# Import math for mathematical calculations\n",
    "import math\n",
    "# Numerical and random functions.\n",
    "import numpy as np\n",
    "#Importing timer to track how long it takes an algorithm to complete\n",
    "from timeit import default_timer as timer"
   ]
  },
  {
   "cell_type": "markdown",
   "id": "1a6141ba",
   "metadata": {},
   "source": [
    "# Introduction"
   ]
  },
  {
   "cell_type": "markdown",
   "id": "43d9d478",
   "metadata": {},
   "source": [
    "## What is Heap Sort?\n",
    "\n",
    "Heap sort is a sorting algorithm based on the binary heap data structure. Sorting is a process of arranging entities in a particular order, i.e. ascending, descending, or alphabetical order. \n",
    "\n",
    "Data structure sorting is concerned with the arrangement of data. There are different sorting algorithms that depend on various factors like data structure, complexity, etc. One of the popular sorting algorithms that we are going to discuss here is the Heap Sort.\n",
    "\n",
    "In order to fully understand how heap sort works, we first have to understand a **binary heap** and subsequently, a **binary tree**.\n",
    "\n"
   ]
  },
  {
   "cell_type": "markdown",
   "id": "a0bd6407",
   "metadata": {},
   "source": [
    "### Binary tree\n",
    "\n",
    "A binary tree is a tree-type non-linear data structure with a maximum of two children for each parent. Every node in a binary tree has a left and right reference along with the data element. The node at the top of the hierarchy of a tree is called the root node. The nodes that hold other sub-nodes are the parent nodes.\n"
   ]
  },
  {
   "cell_type": "markdown",
   "id": "8e20725d",
   "metadata": {},
   "source": [
    "[![Binary-Tree1.png](https://i.postimg.cc/B6YMrPz4/Binary-Tree1.png)](https://postimg.cc/tZ63PJyM)"
   ]
  },
  {
   "cell_type": "markdown",
   "id": "12c68ca8",
   "metadata": {},
   "source": [
    "The following are the important terms with respect to Binary trees:\n",
    "\n",
    "- **Path** - Path refers to the sequence of nodes along the edges of a tree.\n",
    "- **Root** - The node at the top of the tree is called root. There is only one root per tree and one path from the root node to any node.\n",
    "- **Parent Node** − Any node except the root node has one edge upward to a node called parent.\n",
    "- **Child Node** − The node below a given node connected by its edge downward is called its child node.\n",
    "- **Leaf Node** − The node which does not have any child node is called the leaf node.\n",
    "- **Sub-tree** − Subtree represents the descendants of a node.\n"
   ]
  },
  {
   "cell_type": "markdown",
   "id": "9868bcaa",
   "metadata": {},
   "source": [
    "### Binary heap\n",
    "A binary heap is simply a complete binary tree, in which each level of the tree (except, perhaps, the last level) is completely filled and all nodes are stored starting from the left to right. \n",
    "\n",
    "A binary heap also takes into account how the values are stored. Either the value of the parent node is always greater than the value of its children (called a max heap), or vice versa, where the value of the parent is smaller than that of its children (called a min heap). \n"
   ]
  },
  {
   "cell_type": "markdown",
   "id": "4db5b33d",
   "metadata": {},
   "source": [
    "<b>Reference- https://www.tutorialspoint.com/data_structures_algorithms/tree_data_structure.htm<b>\n",
    "<br>\n",
    "<hr>"
   ]
  },
  {
   "cell_type": "markdown",
   "id": "b8bc23ec",
   "metadata": {},
   "source": [
    "## Visual illustration\n",
    "We can use the following libraries to illustrate a set of nodes in the form of a Binary Tree\n",
    "\n",
    "1. **matplotlib.pyplot** - The pyplot functions allow us to make some change to a figure. For example to creates a figure, creates a plotting area in a figure, plots some lines in a plotting area, etc.\n",
    "2. **networkx** - A package for providing further aid in the creation and manipulation of complex networks\n",
    "\n",
    "The below code show an implementation of visualing plotting a list of numbers into a binary tree structure"
   ]
  },
  {
   "cell_type": "code",
   "execution_count": 2,
   "id": "4d0431b4",
   "metadata": {
    "scrolled": true
   },
   "outputs": [
    {
     "name": "stdout",
     "output_type": "stream",
     "text": [
      "[1, 4, 68, 37, 10, 6, 39, 12, 5]\n"
     ]
    },
    {
     "data": {
      "image/png": "[encoded data removed]",
      "text/plain": [
       "<Figure size 432x288 with 1 Axes>"
      ]
     },
     "metadata": {},
     "output_type": "display_data"
    }
   ],
   "source": [
    "def drawtree(L, highlight=None):\n",
    "    \n",
    "  # Create a balanced binary tree\n",
    "  T = nx.balanced_tree(2, math.floor(math.log(len(L), 2)))\n",
    "    \n",
    "  # Remove nodes beyond the length of L\n",
    "  T.remove_nodes_from(list(T.nodes)[len(L):])\n",
    "    \n",
    "  # Rename nodes within L\n",
    "  T = nx.relabel_nodes(T, dict(zip(T.nodes, L)), copy=True)\n",
    "    \n",
    "  # Get positions for the nodes\n",
    "  pos = nx.drawing.nx_pydot.graphviz_layout(T, prog=\"dot\")\n",
    "    \n",
    "  # Draw the graph\n",
    "  nx.draw(T, pos, with_labels=True, node_color='lightgrey', node_size=1600, font_size=32)\n",
    "    \n",
    "  # Highlight nodes where needed\n",
    "  if highlight:\n",
    "    nx.draw_networkx(T.subgraph([i for i in T.nodes if i in highlight]), pos=pos, node_color='pink', node_size=1600, font_size=32)\n",
    "\n",
    "L = [1,4,68,37,10,6,39,12,5]\n",
    "\n",
    "# Print the list\n",
    "print(L)\n",
    "\n",
    "# Draw the tree from list L\n",
    "drawtree(L)"
   ]
  },
  {
   "cell_type": "markdown",
   "id": "c9f3686a",
   "metadata": {},
   "source": [
    "<b>Credit - Dr. Ian McLoughlin<b>\n",
    "<br>\n",
    "<hr>\n"
   ]
  },
  {
   "cell_type": "markdown",
   "id": "904d8e39",
   "metadata": {},
   "source": [
    "# Implementation of Heap Sort\n",
    "The heap sort algorithm has two main steps:\n",
    "\n",
    "1. **Build a max heap from the available data points.**\n",
    "2. **Switch the root node with the last node, and remove it from the heap.** \n",
    "\n",
    "(Repeat these two steps until there is only one element is remaining). \n"
   ]
  },
  {
   "cell_type": "markdown",
   "id": "ed0dae2e",
   "metadata": {},
   "source": [
    "\n",
    "\n",
    "## Step 1: Build a max heap from the data.\n",
    "\n",
    "In order to create a max heap, we must compare the value of a parent node with its children. If the value of the child is greater than the parent, then swap them. This process is repeated until all parent nodes have a greater value than their children. So how do we first locate the children of a parent node?\n"
   ]
  },
  {
   "cell_type": "markdown",
   "id": "fe416b9b",
   "metadata": {},
   "source": [
    "\n",
    "Identifying the index of a parent nodes children is done using the following logic:\n",
    "\n",
    "* The index ( 2 * i )+1 will return the index of the left child. Where i represents the index of the parent.\n",
    "<br>\n",
    "    \n",
    "* The index ( 2 * i )+2 will return the index of the right child. Where i represents the index of the parent.\n",
    "<br>\n",
    "\n",
    "Using the above plot, lets say we want to get the index of the left child, of the parent node at index 3(value of 37):\n",
    "\n",
    "> 2*3 +1 = 7\n",
    "Hence, the index of the left child should be at index 7 which has a value of <b>12<b>\n",
    "\n",
    "Now lets do the same for the right child :\n",
    "\n",
    ">2*3 +2 = 8\n",
    "Hence, the index of the left child should be at index 8 which has a value of <b>5<b>\n",
    "\n",
    "\n",
    "We can highlight those two nodes for ease of visualisation"
   ]
  },
  {
   "cell_type": "code",
   "execution_count": 3,
   "id": "1de02425",
   "metadata": {
    "scrolled": false
   },
   "outputs": [
    {
     "data": {
      "image/png": "[encoded data removed]",
      "text/plain": [
       "<Figure size 432x288 with 1 Axes>"
      ]
     },
     "metadata": {},
     "output_type": "display_data"
    }
   ],
   "source": [
    "# Draw the tree from list L\n",
    "drawtree(L,[12,5])"
   ]
  },
  {
   "cell_type": "markdown",
   "id": "45069844",
   "metadata": {},
   "source": [
    "The video below shows the process of creating a binary tree from an list of nodes. Then, the binary tree is sorted into a max heap. \n"
   ]
  },
  {
   "cell_type": "code",
   "execution_count": 4,
   "id": "dea63e66",
   "metadata": {
    "scrolled": false
   },
   "outputs": [
    {
     "data": {
      "image/jpeg": "[encoded data removed]",
      "text/html": [
       "\n",
       "        <iframe\n",
       "            width=\"800\"\n",
       "            height=\"500\"\n",
       "            src=\"https://www.youtube.com/embed/yehkKyDFIw0\"\n",
       "            frameborder=\"0\"\n",
       "            allowfullscreen\n",
       "            \n",
       "        ></iframe>\n",
       "        "
      ],
      "text/plain": [
       "<IPython.lib.display.YouTubeVideo at 0x7f82300e5bb0>"
      ]
     },
     "execution_count": 4,
     "metadata": {},
     "output_type": "execute_result"
    }
   ],
   "source": [
    "from IPython.display import YouTubeVideo\n",
    "id='yehkKyDFIw0'\n",
    "YouTubeVideo(id=id,width=800,height=500)"
   ]
  },
  {
   "cell_type": "markdown",
   "id": "ac40e3d6",
   "metadata": {},
   "source": [
    "<b>Reference - I created an edited version from the following original video https://www.youtube.com/watch?v=MtQL_ll5KhQ&t=10s <b>"
   ]
  },
  {
   "cell_type": "markdown",
   "id": "56235716",
   "metadata": {},
   "source": [
    "## Heap Sort Code Implementation "
   ]
  },
  {
   "cell_type": "code",
   "execution_count": 5,
   "id": "ff850634",
   "metadata": {},
   "outputs": [],
   "source": [
    "## Heapify is the process of creating a heap data structure from a binary tree through\n",
    "# recursive operations of sorting existing elements.\n",
    "def heapify(arr, n, root):\n",
    "         \n",
    "        # Find largest element among root and children\n",
    "        largest = root\n",
    "        \n",
    "        # Find the left and right children of the root.\n",
    "        leftChild = 2 * root + 1\n",
    "        rightChild = 2 * root + 2\n",
    "        \n",
    "        # check if the left child of the root exists and if it is greater than root \n",
    "        if leftChild < n and arr[root] < arr[leftChild]:\n",
    "            largest = leftChild\n",
    "\n",
    "        # check if the right child of the root exists and is it is greater than root \n",
    "        if rightChild < n and arr[largest] < arr[rightChild]:\n",
    "            largest = rightChild\n",
    "\n",
    "        # If the root is not the largest, swap it with largest\n",
    "        if (largest != root):\n",
    "            arr[root], arr[largest] = arr[largest], arr[root]            \n",
    "            # Heapify the root. \n",
    "            heapify(arr, n, largest)\n",
    "  "
   ]
  },
  {
   "cell_type": "code",
   "execution_count": 6,
   "id": "673ac8e1",
   "metadata": {},
   "outputs": [],
   "source": [
    "# HeapSort() calls heapify() within a single for loop. The end \n",
    "# result will be a max heap. \n",
    "\n",
    "def heapSort(arr): \n",
    "    # First, we need to get the size(length) of the list being passed down\n",
    "    n = len(arr) \n",
    "  \n",
    "    # Itterate through the elements and heapify them. The resulting list of elements will be sorted\n",
    "    # in a max heap fashion.\n",
    "    for i in range(n, -1, -1): \n",
    "        heapify(arr, n, i) "
   ]
  },
  {
   "cell_type": "markdown",
   "id": "68dbe3e0",
   "metadata": {},
   "source": [
    "<b>Reference - https://coderslegacy.com/python/heap-sort-algorithm/ & Dr. Ian McLoughlin"
   ]
  },
  {
   "cell_type": "markdown",
   "id": "e7e469cd",
   "metadata": {},
   "source": [
    "### Driver Code:"
   ]
  },
  {
   "cell_type": "code",
   "execution_count": 7,
   "id": "251705cd",
   "metadata": {},
   "outputs": [
    {
     "name": "stdout",
     "output_type": "stream",
     "text": [
      "Binary Tree:\n",
      "1 4 68 37 10 6 39 12 5 \n",
      "\n",
      "Max Heap:\n",
      "68 37 39 12 10 6 1 4 5 "
     ]
    }
   ],
   "source": [
    "arr = [1,4,68,37,10,6,39,12,5]\n",
    "n = len(arr)\n",
    "\n",
    "# Iterating through the list and printing out each elements value\n",
    "print(\"Binary Tree:\")\n",
    "for i in range(n):\n",
    "    print(\"%d \" % arr[i], end='')\n",
    "\n",
    "# Creating Max Heap from existing list of elements\n",
    "heapSort(arr)\n",
    "\n",
    "# Iterating through the list and printing out each elements value\n",
    "print(\"\\n\\nMax Heap:\")\n",
    "for i in range(n):\n",
    "    print(\"%d \" % arr[i], end='')"
   ]
  },
  {
   "cell_type": "markdown",
   "id": "07f8396b",
   "metadata": {},
   "source": [
    "<b>\n",
    "______________________________________________________________________________________________________________________________________________"
   ]
  },
  {
   "cell_type": "markdown",
   "id": "b55fdfd7",
   "metadata": {},
   "source": [
    "\n",
    "At this point, the binary heap has been converted into a max heap. We can clearly see the difference below, where in the second plotting every parent is greater than it children"
   ]
  },
  {
   "cell_type": "code",
   "execution_count": 8,
   "id": "caeee2d7",
   "metadata": {
    "scrolled": false
   },
   "outputs": [
    {
     "data": {
      "image/png": "[encoded data removed]",
      "text/plain": [
       "<Figure size 432x288 with 1 Axes>"
      ]
     },
     "metadata": {},
     "output_type": "display_data"
    }
   ],
   "source": [
    "#The list\n",
    "L = [1,4,68,37,10,6,39,12,5]\n",
    "# Draw the tree from list L\n",
    "drawtree(L)"
   ]
  },
  {
   "cell_type": "code",
   "execution_count": 9,
   "id": "018fd1b8",
   "metadata": {},
   "outputs": [
    {
     "data": {
      "image/png": "[encoded data removed]",
      "text/plain": [
       "<Figure size 432x288 with 1 Axes>"
      ]
     },
     "metadata": {},
     "output_type": "display_data"
    }
   ],
   "source": [
    "#The list\n",
    "L = [1,4,68,37,10,6,39,12,5]\n",
    "#Calling heapSort to max a max heap from the list\n",
    "heapSort(L)\n",
    "# Draw the tree from list L\n",
    "drawtree(L)"
   ]
  },
  {
   "cell_type": "markdown",
   "id": "946b17c1",
   "metadata": {},
   "source": [
    "<b>\n",
    "______________________________________________________________________________________________________________________________________________"
   ]
  },
  {
   "cell_type": "markdown",
   "id": "aa9c6002",
   "metadata": {},
   "source": [
    "## Step 2: Switch the root node with the last node, and remove it from the max heap\n",
    "Since the tree satisfies Max Heap property, then the largest item is stored at the root node. The following are the next actionables:\n",
    "\n",
    "* Swap the root element with the last element on the tree(nth position) \n",
    "* Perform Max Heap on the root element again so that we have the highest element at the root.\n",
    "\n",
    "It is important to understand that once we put the last node of the Max Heap at the vacant position(the root), it will almost certainly break the Max Heap property of this heap. Therefore, that is why the Max-Heap process must be performed again in order to ensure that throughout the entire heap the parent node of any children nodes is always has a higher value.  "
   ]
  },
  {
   "cell_type": "code",
   "execution_count": 10,
   "id": "e6f9d5f4",
   "metadata": {},
   "outputs": [
    {
     "data": {
      "image/png": "[encoded data removed]",
      "text/plain": [
       "<Figure size 432x288 with 1 Axes>"
      ]
     },
     "metadata": {},
     "output_type": "display_data"
    }
   ],
   "source": [
    "#The original list, before it is turned into a max heap\n",
    "L = [68, 37, 39, 12, 10, 6, 1, 4, 5]\n",
    "\n",
    "# Draw the tree from list L\n",
    "drawtree(L,[68,5])"
   ]
  },
  {
   "cell_type": "code",
   "execution_count": 11,
   "id": "5250e708",
   "metadata": {},
   "outputs": [
    {
     "data": {
      "image/png": "[encoded data removed]",
      "text/plain": [
       "<Figure size 432x288 with 1 Axes>"
      ]
     },
     "metadata": {},
     "output_type": "display_data"
    }
   ],
   "source": [
    "#The original list, before it is turned into a max heap\n",
    "L = [5, 37, 39, 12, 10, 6, 1, 4]\n",
    "\n",
    "# Draw the tree from list L\n",
    "drawtree(L,[5])"
   ]
  },
  {
   "cell_type": "markdown",
   "id": "852e7d11",
   "metadata": {},
   "source": [
    "This video below shows the process of creating a binary tree from a list of elements. Then, the binary tree is sorted into a max heap. "
   ]
  },
  {
   "cell_type": "code",
   "execution_count": 12,
   "id": "065f5c0d",
   "metadata": {
    "scrolled": false
   },
   "outputs": [
    {
     "data": {
      "image/jpeg": "[encoded data removed]",
      "text/html": [
       "\n",
       "        <iframe\n",
       "            width=\"800\"\n",
       "            height=\"500\"\n",
       "            src=\"https://www.youtube.com/embed/qoiajKBX8i4\"\n",
       "            frameborder=\"0\"\n",
       "            allowfullscreen\n",
       "            \n",
       "        ></iframe>\n",
       "        "
      ],
      "text/plain": [
       "<IPython.lib.display.YouTubeVideo at 0x7f825020deb0>"
      ]
     },
     "execution_count": 12,
     "metadata": {},
     "output_type": "execute_result"
    }
   ],
   "source": [
    "id='qoiajKBX8i4'\n",
    "YouTubeVideo(id=id,width=800,height=500)"
   ]
  },
  {
   "cell_type": "markdown",
   "id": "1983b742",
   "metadata": {},
   "source": [
    "<b>Reference - I created an edited version from the following original video https://www.youtube.com/watch?v=MtQL_ll5KhQ&t=10s"
   ]
  },
  {
   "cell_type": "markdown",
   "id": "51a2dda6",
   "metadata": {},
   "source": [
    "## Heap Sort Code Implementation "
   ]
  },
  {
   "cell_type": "code",
   "execution_count": 13,
   "id": "65b0f834",
   "metadata": {},
   "outputs": [],
   "source": [
    "# The previous delcaration of heapsort() contains most of the code needed, we only\n",
    "# need to add a second for-loop to enable the function to sort the elements.\n",
    "# The first for-loop sorts the list of elements into a max heap, the second sorts  \n",
    "# the elements in an ascending order.\n",
    "\n",
    "def heapSort(arr): \n",
    "    # First, we need to get the size(length) of the list being passed down\n",
    "    n = len(arr) \n",
    "  \n",
    "    # Itterate through the elements and heapify them. The resulting list of elements will be sorted\n",
    "    # in a max heap fashion.\n",
    "    for i in range(n, -1, -1): \n",
    "        heapify(arr, n, i) \n",
    "  \n",
    "    # One by one extract elements \n",
    "    for i in range(n-1, 0, -1): \n",
    "        arr[i], arr[0] = arr[0], arr[i] # swap\n",
    "\n",
    "        #Heapify root element\n",
    "        heapify(arr, i, 0)   "
   ]
  },
  {
   "cell_type": "markdown",
   "id": "4cfae1c6",
   "metadata": {},
   "source": [
    "<b>Reference - https://coderslegacy.com/python/heap-sort-algorithm/ & Dr. Ian McLoughlin <b>"
   ]
  },
  {
   "cell_type": "markdown",
   "id": "dfa6017f",
   "metadata": {},
   "source": [
    "### Driver Code:"
   ]
  },
  {
   "cell_type": "code",
   "execution_count": 14,
   "id": "2cc8ff74",
   "metadata": {},
   "outputs": [
    {
     "name": "stdout",
     "output_type": "stream",
     "text": [
      "Original list:\n",
      "1 4 68 37 10 6 39 12 5 \n",
      "\n",
      "(Heap Sort) Sorted list:\n",
      "1 4 5 6 10 12 37 39 68 \n",
      "\n",
      "Time to complete: \n",
      " 5.179099999974568e-05\n"
     ]
    }
   ],
   "source": [
    "#Original list \n",
    "L=[1,4,68,37,10,6,39,12,5]\n",
    "#List Length\n",
    "n = len(L)\n",
    "\n",
    "#Output of original list\n",
    "print(\"Original list:\")\n",
    "for i in range(n):\n",
    "  print(\"%d \" % L[i], end='')\n",
    "\n",
    "#Sorting initiation\n",
    "start=timer();\n",
    "heapSort(L)\n",
    "end=timer();\n",
    "\n",
    "#Duration calculation\n",
    "t1=end-start\n",
    "\n",
    "#Output sorted list\n",
    "print(\"\\n\\n(Heap Sort) Sorted list:\")\n",
    "for i in range(n):\n",
    "  print(\"%d \" % L[i], end='')\n",
    "\n",
    "print(\"\\n\\nTime to complete: \\n\", t1)"
   ]
  },
  {
   "cell_type": "markdown",
   "id": "7a38cbef",
   "metadata": {},
   "source": [
    "As can be seen from the output above, the list is sorted and we can see how long it took to complete. A question now arises, how does Heap Sort compare to other sorting algorithm. "
   ]
  },
  {
   "cell_type": "markdown",
   "id": "c3d28382",
   "metadata": {},
   "source": [
    "<b>\n",
    "______________________________________________________________________________________________________________________________________________"
   ]
  },
  {
   "cell_type": "markdown",
   "id": "633a948d",
   "metadata": {},
   "source": [
    "# Algorithm Comparison"
   ]
  },
  {
   "cell_type": "markdown",
   "id": "0c6d5bd9",
   "metadata": {},
   "source": [
    "Tim Sort is a hybrid sorting algorithm, derived from merge sort and insertion sort, designed to perform well in most cases. It is also the built in algorithm to Pythons \"sort()\" function. Lets compare how long it takes Tim Sort to sort the same list of elements"
   ]
  },
  {
   "cell_type": "markdown",
   "id": "d88501fe",
   "metadata": {},
   "source": [
    "### Tim Sort Algorithm"
   ]
  },
  {
   "cell_type": "code",
   "execution_count": 15,
   "id": "43a5cd94",
   "metadata": {
    "scrolled": true
   },
   "outputs": [
    {
     "name": "stdout",
     "output_type": "stream",
     "text": [
      "Original list:\n",
      "1 4 68 37 10 6 39 12 5 \n",
      "\n",
      "(Tim Sort) Sorted list is:\n",
      "1 4 5 6 10 12 37 39 68 \n",
      "\n",
      "Time to complete: \n",
      " 3.34579999998752e-05\n"
     ]
    }
   ],
   "source": [
    "#Original List\n",
    "L2=[1,4,68,37,10,6,39,12,5]\n",
    "n = len(L2)\n",
    "\n",
    "#Output of original list\n",
    "print(\"Original list:\")\n",
    "for i in range(n):\n",
    "  print(\"%d \" % L2[i], end='')\n",
    "\n",
    "#Sorting initiation\n",
    "start=timer();\n",
    "L2=sorted(L2)\n",
    "end=timer();\n",
    "\n",
    "#Duration calculation\n",
    "t2=end-start\n",
    "\n",
    "#Output sorted list\n",
    "print(\"\\n\\n(Tim Sort) Sorted list is:\")\n",
    "for i in range(n):\n",
    "  print(\"%d \" % L2[i], end='')\n",
    "\n",
    "print(\"\\n\\nTime to complete: \\n\", t2)"
   ]
  },
  {
   "cell_type": "markdown",
   "id": "5de45b4d",
   "metadata": {},
   "source": [
    "<b>Reference - https://medium.com/@rylanbauermeister/understanding-timsort-191c758a42f3"
   ]
  },
  {
   "cell_type": "markdown",
   "id": "50e5d64f",
   "metadata": {},
   "source": [
    "<b>\n",
    "______________________________________________________________________________________________________________________________________________"
   ]
  },
  {
   "cell_type": "markdown",
   "id": "e67daa44",
   "metadata": {},
   "source": [
    "Lets try one more sorting algorithm. In Selection Sort we start by finding the minimum value in a given list and move it to a sorted list. Then we repeat the process for each of the remaining elements in the unsorted list."
   ]
  },
  {
   "cell_type": "markdown",
   "id": "8a950ee9",
   "metadata": {},
   "source": [
    "### Selection Sort Algorithm"
   ]
  },
  {
   "cell_type": "code",
   "execution_count": 16,
   "id": "1572a136",
   "metadata": {},
   "outputs": [],
   "source": [
    "# Selection sort\n",
    "def selectionSort(list, size):\n",
    "    \n",
    "    #Iterate through the list\n",
    "    for step in range(size):\n",
    "        #Set element at minimum index\n",
    "        min_idx = step\n",
    "        \n",
    "        #Compare minimum index element with the next\n",
    "        for i in range(step + 1, size):  \n",
    "            if list[i] < list[min_idx]:\n",
    "                min_idx = i\n",
    "     \n",
    "        # After each iteration, minimum is placed in the front of the unsorted list\n",
    "        (list[step], list[min_idx]) = (list[min_idx], list[step])"
   ]
  },
  {
   "cell_type": "markdown",
   "id": "4f882684",
   "metadata": {},
   "source": [
    "### Driver Code"
   ]
  },
  {
   "cell_type": "code",
   "execution_count": 17,
   "id": "38907212",
   "metadata": {},
   "outputs": [
    {
     "name": "stdout",
     "output_type": "stream",
     "text": [
      "Original list:\n",
      "1 4 68 37 10 6 39 12 5 \n",
      "\n",
      "(Selection Sort) Sorted list is:\n",
      "1 4 5 6 10 12 37 39 68 \n",
      "\n",
      "Time to complete: \n",
      " 4.0165999999786095e-05\n"
     ]
    }
   ],
   "source": [
    "#Original List\n",
    "L3=[1,4,68,37,10,6,39,12,5]\n",
    "n = len(L3)\n",
    "\n",
    "#Output of original list\n",
    "print(\"Original list:\")\n",
    "for i in range(n):\n",
    "  print(\"%d \" % L3[i], end='')\n",
    "\n",
    "#Sorting initiation\n",
    "start=timer();\n",
    "selectionSort(L3,n)\n",
    "end=timer();\n",
    "\n",
    "#Duration calculation\n",
    "t3=end-start\n",
    "\n",
    "#Output sorted list\n",
    "print(\"\\n\\n(Selection Sort) Sorted list is:\")\n",
    "for i in range(n):\n",
    "  print(\"%d \" % L3[i], end='')\n",
    "\n",
    "print(\"\\n\\nTime to complete: \\n\", t3)"
   ]
  },
  {
   "cell_type": "markdown",
   "id": "66237c67",
   "metadata": {},
   "source": [
    "<b>Reference - https://www.programiz.com/dsa/selection-sort"
   ]
  },
  {
   "cell_type": "markdown",
   "id": "612787a5",
   "metadata": {},
   "source": [
    "<b>\n",
    "______________________________________________________________________________________________________________________________________________"
   ]
  },
  {
   "cell_type": "markdown",
   "id": "07d896f0",
   "metadata": {},
   "source": [
    "## Results"
   ]
  },
  {
   "cell_type": "code",
   "execution_count": 18,
   "id": "ba056d59",
   "metadata": {
    "scrolled": false
   },
   "outputs": [
    {
     "name": "stdout",
     "output_type": "stream",
     "text": [
      "Heap Sort\n",
      " 5.179099999974568e-05\n",
      "\n",
      "Tim Sort\n",
      " 3.34579999998752e-05\n",
      "\n",
      "Selection Sort\n",
      " 4.0165999999786095e-05\n"
     ]
    }
   ],
   "source": [
    "print(\"Heap Sort\\n\",t1)\n",
    "print(\"\\nTim Sort\\n\",t2)\n",
    "print(\"\\nSelection Sort\\n\",t3)"
   ]
  },
  {
   "cell_type": "markdown",
   "id": "a36e70d2",
   "metadata": {},
   "source": [
    "As we can see, Heap Sort took the longest at 5.76, both Selection Sort and Tim Sort were very close at 3.446 and 3.441 respectively. Please note, the above values are approximations and are expected to vary slightly when re-compiled. "
   ]
  },
  {
   "cell_type": "markdown",
   "id": "e0a91c04",
   "metadata": {},
   "source": [
    "<b>\n",
    "______________________________________________________________________________________________________________________________________________"
   ]
  },
  {
   "cell_type": "markdown",
   "id": "17dd0f76",
   "metadata": {},
   "source": [
    "# Computational complexity of Heap Sort.\n"
   ]
  },
  {
   "cell_type": "markdown",
   "id": "00edf35a",
   "metadata": {},
   "source": [
    "## Time complexity of Heap Sort.\n"
   ]
  },
  {
   "cell_type": "markdown",
   "id": "fdcc6de5",
   "metadata": {},
   "source": [
    "To explain the computational complexity of an algorithm we must us Big O notation. At its most basic level, Big O notation defines how long it takes an algorithm to run, also called time complexity. It represents how long the runtime for a given algorithm can be as the data grows larger. \n"
   ]
  },
  {
   "cell_type": "markdown",
   "id": "0510d5ca",
   "metadata": {},
   "source": [
    "You may be wondering why anyone cares enough to calculate the speed of an algorithm except to show off, but as programs grow in size, these tiny milliseconds add up. Suddenly an algorithm that used to take no time at all starts to bog everything down, so programmers need to know what the “worst-case scenario” is, or rather, the slowest an algorithm will run given a growing list of data. \n",
    "\n",
    "The following chart is a good reference for the different levels of complexity in Big O:"
   ]
  },
  {
   "cell_type": "markdown",
   "id": "1872621a",
   "metadata": {},
   "source": [
    "![Complexity](https://he-s3.s3.amazonaws.com/media/uploads/317c55e.png)\n",
    "<b> Reference - https://www.hackerearth.com/practice/notes/sorting-and-searching-algorithms-time-complexities-cheat-sheet/"
   ]
  },
  {
   "cell_type": "markdown",
   "id": "3366f29a",
   "metadata": {},
   "source": [
    "To understands the time complexity of Heap Sort, we need to break down each part of the computational steps and evaluate their individual complexity.\n"
   ]
  },
  {
   "cell_type": "markdown",
   "id": "07db9d9b",
   "metadata": {},
   "source": [
    "First, we build a max heap from the array, which requires <b>O(n)</b> time if implemented optimally. O(n) means that the run time increases at the same pace as the input. \n",
    "\n",
    "Why? Building a max heap takes an array of unsorted items and moves them until they all satisfy the heap property, thereby producing a valid max-heap. In our case, The number of times a node may need to be moved is proportional to the distance between nodes. In other words, it totally depends on the overall height of the heap. In the worst case it would go down to the leaf nodes.\n"
   ]
  },
  {
   "cell_type": "markdown",
   "id": "9854648d",
   "metadata": {},
   "source": [
    "The next stage is to repeatedly delete the largest item in the heap and put it at the end of the array. The complexity of removing the biggest valued node (after being swapped down from the root) for a heap is <b>O(log n)</b>. \n",
    " \n",
    "It is typically implemented by removing the root (which contains the highest node value) and replacing it with the last node in the heap, which is a leaf, and therefore one of the smallest nodes. This new root will almost certainly violate the heap property, so you have to build a max heap again until you move it back into an acceptable position. This also has the effect of moving the next largest item up to the root. \n"
   ]
  },
  {
   "cell_type": "markdown",
   "id": "974adf8f",
   "metadata": {},
   "source": [
    "In summary, the work for heap sort is the sum of the two stages: Building the max heap and removing each node in order. Building the max-heap from the unsorted list requires O(n) calls to the build max heap function, each of which takes O(logn) time. Thus, the overall time complexity of heap sort is <b>O(nlogn)</b> in the worst case."
   ]
  },
  {
   "cell_type": "markdown",
   "id": "605b253b",
   "metadata": {},
   "source": [
    "<b> Reference - https://brilliant.org/wiki/heap-sort/ & https://www.geeksforgeeks.org/heap-sort/ & https://www.happycoders.eu/algorithms/heapsort/"
   ]
  },
  {
   "cell_type": "code",
   "execution_count": 19,
   "id": "03636116",
   "metadata": {
    "scrolled": true
   },
   "outputs": [
    {
     "data": {
      "text/plain": [
       "<matplotlib.legend.Legend at 0x7fa3d28846a0>"
      ]
     },
     "execution_count": 19,
     "metadata": {},
     "output_type": "execute_result"
    },
    {
     "data": {
      "image/png": "[encoded data removed]",
      "text/plain": [
       "<Figure size 432x288 with 1 Axes>"
      ]
     },
     "metadata": {
      "needs_background": "light"
     },
     "output_type": "display_data"
    }
   ],
   "source": [
    "n = np.arange(0.1, 1000.1, 0.1)\n",
    "\n",
    "y1 = n\n",
    "y2 =  np.log(n)\n",
    "y3 = n * np.log(n)\n",
    "\n",
    "plt.plot(n, y1, label='$n$')\n",
    "plt.plot(n, y2, label='$ \\log(n)$')\n",
    "plt.plot(n, y2, label='$n \\log(n)$')\n",
    "\n",
    "plt.legend()"
   ]
  },
  {
   "cell_type": "markdown",
   "id": "8369575a",
   "metadata": {},
   "source": [
    "## Space complexity of Heap Sort.\n"
   ]
  },
  {
   "cell_type": "markdown",
   "id": "23da110a",
   "metadata": {},
   "source": [
    "So far, we have only been discussing the time complexity of the algorithms. That is, we only care about how much time it takes for the program to complete the task. \n",
    "\n",
    "The space complexity of a sorting algorithem is related to how much memory the program will use, and therefore is also an important factor to analyze. With Heap sort, Memory usage is minimal because apart from what is necessary to hold the initial list of items to be sorted, it needs no additional memory space to work. Heap Sort requires a constant space complexity of O(1). O(1) means that the space required by the algorithm to process data is constant\n",
    "\n",
    "For reference, the below chart lists the space and time complexities for some of the most common sorting algorithems:"
   ]
  },
  {
   "cell_type": "markdown",
   "id": "b65711ac",
   "metadata": {},
   "source": [
    "![Complexity2](https://lamfo-unb.github.io/img/Sorting-algorithms/Complexity.png)\n",
    "<b> Reference - https://lamfo-unb.github.io/2019/04/21/Sorting-algorithms/"
   ]
  },
  {
   "cell_type": "markdown",
   "id": "db0642e6",
   "metadata": {},
   "source": [
    "# How Graph Theory is used for Heap Sort"
   ]
  },
  {
   "cell_type": "markdown",
   "id": "f8e8fc60",
   "metadata": {},
   "source": [
    "Graph Theory is a widely-used concept for visualizing two basic components: nodes and edges. It is focused on the relationship between thse two components. It has become a powerful means of modelling and capturing data in concepts such as algorithms. If you have a set of objects that are related to each other, then you can represent them using a graph. The nature of their abstract structure makes them endlessly versatile in almost any context. \n",
    "\n",
    "A graph is represented by a set of vertices (V) or nodes linked at edges (E). The number of edges you have depends on the vertices. The edges may be directed or undirected. In a directed graph, the nodes are linked in one direction. The edges here show a one-way relationship. In an undirected graph, the edges are bi-directional, showing a two-way relationship."
   ]
  },
  {
   "cell_type": "markdown",
   "id": "7ab8a3bc",
   "metadata": {},
   "source": [
    "![graph](https://miro.medium.com/max/1400/1*svRJuhJP2S9Ek4O_lNEKRg.png)"
   ]
  },
  {
   "cell_type": "markdown",
   "id": "6220620f",
   "metadata": {},
   "source": [
    "Throughout this notebook, we faced multiple aspects which were represeted using graphs. First we used graphs to represent an unsorted list of elements into a binary tree. When we then worked on creating a max heap from the binary tree, graphs were used to represet the before and after. We used them to illaborate on the logic of being able to find a nodes children from the parent.\n",
    "\n",
    "We were able to very clearly understand the changes that took place on the data structure itself throughout the entire process of Heap Sort. Including swapping out the root element for the leaf. Being able to visually explain the relationship through Graph Theory offers significant support to understanding a problem and its solution.\n",
    "\n",
    "Furthermore, Graph Theory gives us a means to more easily solve complext problems by expressing them in a more reasonable form. Route planning is a very common real world problem where graph theory is a particularly useful tool. The link below includes a very in depth explination of a common issue and its solution using graph Theory. "
   ]
  },
  {
   "cell_type": "markdown",
   "id": "0ae9d787",
   "metadata": {},
   "source": [
    "<b> Reference - https://towardsdatascience.com/what-is-graph-theory-and-why-should-you-care-28d6a715a5c2#:~:text=Graph%20Theory%20is%20ultimately%20the,moving%20parts%20of%20dynamic%20systems."
   ]
  },
  {
   "cell_type": "code",
   "execution_count": null,
   "id": "f87ec3f5",
   "metadata": {},
   "outputs": [],
   "source": []
  }
 ],
 "metadata": {
  "kernelspec": {
   "display_name": "Python 3 (ipykernel)",
   "language": "python",
   "name": "python3"
  },
  "language_info": {
   "codemirror_mode": {
    "name": "ipython",
    "version": 3
   },
   "file_extension": ".py",
   "mimetype": "text/x-python",
   "name": "python",
   "nbconvert_exporter": "python",
   "pygments_lexer": "ipython3",
   "version": "3.9.7"
  }
 },
 "nbformat": 4,
 "nbformat_minor": 5
}
