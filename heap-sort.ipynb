{
 "cells": [
  {
   "cell_type": "markdown",
   "id": "923d5134",
   "metadata": {},
   "source": [
    "# Heap Sort\n",
    "\n",
    "\n",
    "## Purpose\n",
    "The purpose of this notebook is to explain and implement(using Python) the Heap Sort algorithm. Also, to explain its computational complexity and how graph theory is used in Heap Sort\n",
    "\n",
    "## Methodology\n",
    "Although an in depth knowledge of a sorting algorithems or the Python coding language is not required, it is assumed that the reader has a basic understanding of code and computational knowledge.\n",
    "\n",
    "## WIP - improvements\n",
    "\n",
    "Notable TODOs:\n",
    "\n",
    "• Explanation of the Heap Sort algorithm.\n",
    "\n",
    "• Python function implementing Heap Sort.\n",
    "\n",
    "• Explanation of the computational complexity of Heap Sort.\n",
    "\n",
    "• Explanation of how graph theory is used in Heap Sort.\n",
    "\n",
    "## Results\n",
    "Describe and comment the most important results.\n"
   ]
  },
  {
   "cell_type": "markdown",
   "id": "c71a6bcc",
   "metadata": {},
   "source": [
    "# Explanation of the Heap Sort algorithm\n",
    "\n",
    "Placeholder Text"
   ]
  },
  {
   "cell_type": "code",
   "execution_count": 1,
   "id": "8e5d71a1",
   "metadata": {},
   "outputs": [],
   "source": [
    "# Explanation of the Heap Sort algorithm\n",
    "\n"
   ]
  },
  {
   "cell_type": "markdown",
   "id": "1dd8c7f7",
   "metadata": {},
   "source": [
    "# Python function implementing Heap Sort\n",
    "\n",
    "## Setup - Library import\n",
    "We import all the required Python libraries"
   ]
  },
  {
   "cell_type": "code",
   "execution_count": 2,
   "id": "7c118d24",
   "metadata": {},
   "outputs": [],
   "source": [
    "# Data manipulation\n",
    "\n"
   ]
  },
  {
   "cell_type": "markdown",
   "id": "2b953db6",
   "metadata": {},
   "source": [
    "# Placeholder Title\n",
    "Placeholder Text"
   ]
  },
  {
   "cell_type": "markdown",
   "id": "ccac6fe8",
   "metadata": {},
   "source": [
    "# Placeholder Title\n",
    "Placeholder Text"
   ]
  },
  {
   "cell_type": "markdown",
   "id": "f3b7bf3b",
   "metadata": {},
   "source": [
    "# Placeholder Title\n",
    "Placeholder Text"
   ]
  },
  {
   "cell_type": "markdown",
   "id": "9ccd30d2",
   "metadata": {},
   "source": [
    "# Placeholder Title\n",
    "Placeholder Text"
   ]
  },
  {
   "cell_type": "markdown",
   "id": "c4d866ee",
   "metadata": {},
   "source": [
    "# References\n",
    "We report here relevant references:\n",
    "1. \n",
    "2. "
   ]
  },
  {
   "cell_type": "code",
   "execution_count": null,
   "id": "54efb9cb",
   "metadata": {},
   "outputs": [],
   "source": []
  },
  {
   "cell_type": "code",
   "execution_count": null,
   "id": "01559ae4",
   "metadata": {},
   "outputs": [],
   "source": []
  }
 ],
 "metadata": {
  "kernelspec": {
   "display_name": "Python 3 (ipykernel)",
   "language": "python",
   "name": "python3"
  },
  "language_info": {
   "codemirror_mode": {
    "name": "ipython",
    "version": 3
   },
   "file_extension": ".py",
   "mimetype": "text/x-python",
   "name": "python",
   "nbconvert_exporter": "python",
   "pygments_lexer": "ipython3",
   "version": "3.9.7"
  }
 },
 "nbformat": 4,
 "nbformat_minor": 5
}
