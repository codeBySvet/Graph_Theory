{
 "cells": [
  {
   "cell_type": "markdown",
   "id": "1a6141ba",
   "metadata": {},
   "source": [
    "# Introduction"
   ]
  },
  {
   "cell_type": "markdown",
   "id": "2391e2a2",
   "metadata": {},
   "source": [
    "### Imports"
   ]
  },
  {
   "cell_type": "code",
   "execution_count": 1,
   "id": "308d5d73",
   "metadata": {},
   "outputs": [],
   "source": [
    "# Import matplotlib\n",
    "import matplotlib.pyplot as plt\n",
    "# Import networkx\n",
    "import networkx as nx\n",
    "# Import math for mathematical calculations\n",
    "import math\n",
    "# Numerical and random functions.\n",
    "import numpy as np"
   ]
  },
  {
   "cell_type": "markdown",
   "id": "43d9d478",
   "metadata": {},
   "source": [
    "## What is Heap Sort?\n",
    "\n",
    "Heap sort is a sorting algorithm based on the binary heap data structure. Sorting is a process of arranging entities in a particular order, i.e. ascending, descending, or alphabetical order. \n",
    "\n",
    "Data structure sorting is concerned with the arrangement of data. There are different sorting algorithms that depend on various factors like data structure, complexity, etc. One of the popular sorting algorithms that we are going to discuss here is the Heap Sort.\n",
    "\n",
    "In order to fully understand how heap sort works, we first have to understand a **binary heap** and subsequently, a **binary tree**.\n",
    "\n"
   ]
  },
  {
   "cell_type": "markdown",
   "id": "a0bd6407",
   "metadata": {},
   "source": [
    "### Binary tree\n",
    "\n",
    "A binary tree is a tree-type non-linear data structure with a maximum of two children for each parent. Every node in a binary tree has a left and right reference along with the data element. The node at the top of the hierarchy of a tree is called the root node. The nodes that hold other sub-nodes are the parent nodes.\n"
   ]
  },
  {
   "cell_type": "markdown",
   "id": "8e20725d",
   "metadata": {},
   "source": [
    "[![Binary-Tree1.png](https://i.postimg.cc/B6YMrPz4/Binary-Tree1.png)](https://postimg.cc/tZ63PJyM)"
   ]
  },
  {
   "cell_type": "markdown",
   "id": "12c68ca8",
   "metadata": {},
   "source": [
    "The following are the important terms with respect to Binary trees:\n",
    "\n",
    "- **Path** - Path refers to the sequence of nodes along the edges of a tree.\n",
    "- **Root** - The node at the top of the tree is called root. There is only one root per tree and one path from the root node to any node.\n",
    "- **Parent Node** − Any node except the root node has one edge upward to a node called parent.\n",
    "- **Child Node** − The node below a given node connected by its edge downward is called its child node.\n",
    "- **Leaf Node** − The node which does not have any child node is called the leaf node.\n",
    "- **Sub-tree** − Subtree represents the descendants of a node.\n"
   ]
  },
  {
   "cell_type": "markdown",
   "id": "9868bcaa",
   "metadata": {},
   "source": [
    "### Binary heap\n",
    "A binary heap is simply a complete binary tree, in which each level of the tree (except, perhaps, the last level) is completely filled and all nodes are stored starting from the left to right. \n",
    "\n",
    "A binary heap also takes into account how the values are stored. Either the value of the parent node is always greater than the value of its children (called a max heap), or vice versa, where the value of the parent is smaller than that of its children (called a min heap). \n"
   ]
  },
  {
   "cell_type": "markdown",
   "id": "4db5b33d",
   "metadata": {},
   "source": [
    "<b>Reference- https://www.tutorialspoint.com/data_structures_algorithms/tree_data_structure.htm<b>\n",
    "<br>\n",
    "<hr>"
   ]
  },
  {
   "cell_type": "markdown",
   "id": "b8bc23ec",
   "metadata": {},
   "source": [
    "## Visual illustration\n",
    "We can use the following libraries to illustrate a set of nodes in the form of a Binary Tree\n",
    "\n",
    "1. **matplotlib.pyplot** - The pyplot functions allow us to make some change to a figure. For example to creates a figure, creates a plotting area in a figure, plots some lines in a plotting area, etc.\n",
    "2. **networkx** - A package for providing further aid in the creation and manipulation of complex networks\n",
    "\n",
    "The below code show an implementation of visualing plotting a list of numbers into a binary tree structure"
   ]
  },
  {
   "cell_type": "code",
   "execution_count": 2,
   "id": "4d0431b4",
   "metadata": {
    "scrolled": true
   },
   "outputs": [
    {
     "name": "stdout",
     "output_type": "stream",
     "text": [
      "[1, 4, 68, 37, 10, 6, 39, 12, 5]\n"
     ]
    },
    {
     "data": {
      "image/png": "[encoded data removed]",
      "text/plain": [
       "<Figure size 432x288 with 1 Axes>"
      ]
     },
     "metadata": {},
     "output_type": "display_data"
    }
   ],
   "source": [
    "def drawtree(L, highlight=None):\n",
    "    \n",
    "  # Create a balanced binary tree\n",
    "  T = nx.balanced_tree(2, math.floor(math.log(len(L), 2)))\n",
    "    \n",
    "  # Remove nodes beyond the length of L\n",
    "  T.remove_nodes_from(list(T.nodes)[len(L):])\n",
    "    \n",
    "  # Rename nodes within L\n",
    "  T = nx.relabel_nodes(T, dict(zip(T.nodes, L)), copy=True)\n",
    "    \n",
    "  # Get positions for the nodes\n",
    "  pos = nx.drawing.nx_pydot.graphviz_layout(T, prog=\"dot\")\n",
    "    \n",
    "  # Draw the graph\n",
    "  nx.draw(T, pos, with_labels=True, node_color='lightgrey', node_size=1600, font_size=32)\n",
    "    \n",
    "  # Highlight nodes where needed\n",
    "  if highlight:\n",
    "    nx.draw_networkx(T.subgraph([i for i in T.nodes if i in highlight]), pos=pos, node_color='pink', node_size=1600, font_size=32)\n",
    "\n",
    "L = [1,4,68,37,10,6,39,12,5]\n",
    "\n",
    "# Print the list\n",
    "print(L)\n",
    "\n",
    "# Draw the tree from list L\n",
    "drawtree(L)"
   ]
  },
  {
   "cell_type": "markdown",
   "id": "c9f3686a",
   "metadata": {},
   "source": [
    "<b>Credit - Dr. Ian McLoughlin<b>\n",
    "<br>\n",
    "<hr>\n"
   ]
  },
  {
   "cell_type": "markdown",
   "id": "bdda60dc",
   "metadata": {},
   "source": [
    "# Implementation of Heap Sort\n",
    "The heap sort algorithm has two main steps. Both are described in  further detail below:\n",
    "\n",
    "1. **Build a max heap from the available data points.**\n",
    "2. **Switch the root node with the last node, and remove it from the heap.** \n",
    "\n",
    "(Repeat these two steps until there is only one element is remaining). \n"
   ]
  },
  {
   "cell_type": "markdown",
   "id": "a3cc7a2c",
   "metadata": {},
   "source": [
    "## Step 1: Build a max heap from the data.\n",
    "In this example, we will be using a max heap instead of min heap. In order to create a max heap, we must compare the value of this parent node with its children. If the value of the child is greater than the parent, then swap them. This process is repeated until all parent nodes have a greater value than their children."
   ]
  },
  {
   "cell_type": "markdown",
   "id": "9281a99a",
   "metadata": {},
   "source": [
    "In order to check if a parent needs to be swapped with either of its children, we need the know the value of the parent and that of either its children. We know the location of the root as it is in index 0. To determine the values of its children, in a binary heap structure we can use the calculation (2 * root-index +1) for the left child and (2 * root-index +2) for the right child."
   ]
  },
  {
   "cell_type": "markdown",
   "id": "d8fedbb0",
   "metadata": {},
   "source": [
    "The video below offers a visual guide for this first step of Heap Sort. The video uses different values within the nodes when compared to examples further below on this notebook, however the underlying process is the exact same. "
   ]
  },
  {
   "cell_type": "code",
   "execution_count": 1,
   "id": "9390157c",
   "metadata": {
    "scrolled": false
   },
   "outputs": [
    {
     "data": {
      "image/jpeg": "[encoded data removed]",
      "text/html": [
       "\n",
       "        <iframe\n",
       "            width=\"800\"\n",
       "            height=\"500\"\n",
       "            src=\"https://www.youtube.com/embed/yehkKyDFIw0\"\n",
       "            frameborder=\"0\"\n",
       "            allowfullscreen\n",
       "            \n",
       "        ></iframe>\n",
       "        "
      ],
      "text/plain": [
       "<IPython.lib.display.YouTubeVideo at 0x7f8281d2ffd0>"
      ]
     },
     "execution_count": 1,
     "metadata": {},
     "output_type": "execute_result"
    }
   ],
   "source": [
    "from IPython.display import YouTubeVideo\n",
    "id='yehkKyDFIw0'\n",
    "YouTubeVideo(id=id,width=800,height=500)"
   ]
  },
  {
   "cell_type": "markdown",
   "id": "04589426",
   "metadata": {},
   "source": [
    "Reference - I created an edited version from the following original video https://www.youtube.com/watch?v=MtQL_ll5KhQ&t=10s"
   ]
  },
  {
   "cell_type": "markdown",
   "id": "2b953db6",
   "metadata": {},
   "source": [
    "## Code snippet for building a Max Heap\n",
    "Please note - The following code is not a complete implementation of Heap Sort. It is only an implementation of the first part of heapsort(building the Max Heap). Later on, when we look at the second half of heapsort, we will add more code to this snippet for a full implementation of Heap Sort."
   ]
  },
  {
   "cell_type": "code",
   "execution_count": 2,
   "id": "ff850634",
   "metadata": {},
   "outputs": [],
   "source": [
    "# heapify is the process of creating a heap data structure from a binary tree through\n",
    "# recursive operations of sorting existing elements.\n",
    "def heapify(arr, n, root):\n",
    "         \n",
    "        # Find largest element among root and children\n",
    "        largest = root\n",
    "        \n",
    "        # Find the left and right children of the root.\n",
    "        leftChild = 2 * root + 1\n",
    "        rightChild = 2 * root + 2\n",
    "        \n",
    "        # check if the left child of the root exists and if it is greater than root \n",
    "        if leftChild < n and arr[root] < arr[leftChild]:\n",
    "            largest = leftChild\n",
    "\n",
    "        # check if the right child of the root exists and is it is greater than root \n",
    "        if rightChild < n and arr[largest] < arr[rightChild]:\n",
    "            largest = rightChild\n",
    "\n",
    "        # If the root is not the largest, swap it with largest\n",
    "        if (largest != root):\n",
    "            arr[root], arr[largest] = arr[largest], arr[root]            \n",
    "            # Heapify the root. \n",
    "            heapify(arr, n, largest)\n",
    "  "
   ]
  },
  {
   "cell_type": "code",
   "execution_count": 9,
   "id": "673ac8e1",
   "metadata": {},
   "outputs": [],
   "source": [
    "# In this implementation, heapSort() calls heapify() within a single for loop. The end \n",
    "# result will be a max heap. However, the resulting elements will not be sorted just yet. \n",
    "\n",
    "def heapSort(arr): \n",
    "    # First, we need to get the size(length) of the list being passed down\n",
    "    n = len(arr) \n",
    "  \n",
    "    # Itterate through the elements and heapify them. The resulting list of elements will be sorted\n",
    "    # in a max heap fashion.\n",
    "    for i in range(n, -1, -1): \n",
    "        heapify(arr, n, i) "
   ]
  },
  {
   "cell_type": "markdown",
   "id": "e7e469cd",
   "metadata": {},
   "source": [
    "### Driver Code:"
   ]
  },
  {
   "cell_type": "code",
   "execution_count": 4,
   "id": "251705cd",
   "metadata": {},
   "outputs": [
    {
     "name": "stdout",
     "output_type": "stream",
     "text": [
      "Binary Tree:\n",
      "1 4 68 37 10 6 39 12 5 \n",
      "\n",
      "Max Heap:\n",
      "68 37 39 12 10 6 1 4 5 "
     ]
    }
   ],
   "source": [
    "arr = [1,4,68,37,10,6,39,12,5]\n",
    "n = len(arr)\n",
    "\n",
    "# Iterating through the list and printing out each elements value\n",
    "print(\"Binary Tree:\")\n",
    "for i in range(n):\n",
    "    print(\"%d \" % arr[i], end='')\n",
    "\n",
    "# Creating Max Heap from existing list of elements\n",
    "heapSort(arr)\n",
    "\n",
    "# Iterating through the list and printing out each elements value\n",
    "print(\"\\n\\nMax Heap:\")\n",
    "for i in range(n):\n",
    "    print(\"%d \" % arr[i], end='')"
   ]
  },
  {
   "cell_type": "markdown",
   "id": "b55fdfd7",
   "metadata": {},
   "source": [
    "At this point, the binary heap has been converted into a max heap. For an easier visualisation, please refer to the diagrams below showing the before and after of this binary tree for this data set:"
   ]
  },
  {
   "cell_type": "markdown",
   "id": "3a031846",
   "metadata": {},
   "source": [
    "[![t4.png](https://i.postimg.cc/QC2Rddpv/t4.png)](https://postimg.cc/n91ddZS1)"
   ]
  },
  {
   "cell_type": "markdown",
   "id": "a7e9e606",
   "metadata": {},
   "source": [
    "[![t2.png](https://i.postimg.cc/nzHDDVh9/t2.png)](https://postimg.cc/FfBzt4ch)"
   ]
  },
  {
   "cell_type": "markdown",
   "id": "3469209e",
   "metadata": {},
   "source": [
    "Reference - These images are original. Created using https://www.lucidchart.com/\n",
    "<br>\n",
    "<br>"
   ]
  },
  {
   "cell_type": "markdown",
   "id": "aa9c6002",
   "metadata": {},
   "source": [
    "## Step 2: Switch the root node with the last node, and remove it from the max heap\n",
    "Since the tree satisfies Max Heap property, then the largest item is stored at the root node.The following are the next steps:\n",
    "\n",
    "* Remove the root element and put at the end of the array (nth position) \n",
    "* Put the last node of the Max Heap at the vacant position(the root).\n",
    "* Perform Max Heap on the root element again so that we have the highest element at the root.\n",
    "\n",
    "It is important to understand that once we put the last node of the Max Heap at the vacant position(the root), it will almost certainly break the Max Heap property of this heap. Therefore, that is why the Max-Heap process must be performed again in order to ensure that throughout the entire heap the parent node of any children nodes is always has a higher value.  \n",
    "\n",
    "The video below offers a visual guide for this second step of Heap Sort.  The video uses different values within the nodes when compared to examples above on this notebook, however the underlying process is the exact same. "
   ]
  },
  {
   "cell_type": "code",
   "execution_count": 5,
   "id": "065f5c0d",
   "metadata": {
    "scrolled": false
   },
   "outputs": [
    {
     "data": {
      "image/jpeg": "[encoded data removed]",
      "text/html": [
       "\n",
       "        <iframe\n",
       "            width=\"800\"\n",
       "            height=\"500\"\n",
       "            src=\"https://www.youtube.com/embed/qoiajKBX8i4\"\n",
       "            frameborder=\"0\"\n",
       "            allowfullscreen\n",
       "            \n",
       "        ></iframe>\n",
       "        "
      ],
      "text/plain": [
       "<IPython.lib.display.YouTubeVideo at 0x7f8281db27f0>"
      ]
     },
     "execution_count": 5,
     "metadata": {},
     "output_type": "execute_result"
    }
   ],
   "source": [
    "id='qoiajKBX8i4'\n",
    "YouTubeVideo(id=id,width=800,height=500)"
   ]
  },
  {
   "cell_type": "markdown",
   "id": "1983b742",
   "metadata": {},
   "source": [
    "Reference - I created an edited version from the following original video https://www.youtube.com/watch?v=MtQL_ll5KhQ&t=10s"
   ]
  },
  {
   "cell_type": "markdown",
   "id": "212b2f57",
   "metadata": {},
   "source": [
    "## Code snippet for swapping nodes and removing them from the heap\n",
    "\n",
    "Please note - Here, we are completing the code required for a full implementation of Heap Sort. We only need to re-define the heapsort() method in order to include the further required code (the second for loop) which will handle sorting the Max Heap."
   ]
  },
  {
   "cell_type": "code",
   "execution_count": 6,
   "id": "65b0f834",
   "metadata": {},
   "outputs": [],
   "source": [
    "# calls heapify() within two for loops. \n",
    "# The first for-loop sorts the list of elements into a max heap, the second sorts  \n",
    "# the elements in an ascending order.\n",
    "\n",
    "def heapSort(arr): \n",
    "    # First, we need to get the size(length) of the list being passed down\n",
    "    n = len(arr) \n",
    "  \n",
    "    # Itterate through the elements and heapify them. The resulting list of elements will be sorted\n",
    "    # in a max heap fashion.\n",
    "    for i in range(n, -1, -1): \n",
    "        heapify(arr, n, i) \n",
    "  \n",
    "    # One by one extract elements \n",
    "    for i in range(n-1, 0, -1): \n",
    "        arr[i], arr[0] = arr[0], arr[i] # swap\n",
    "\n",
    "        #Heapify root element\n",
    "        heapify(arr, i, 0)   "
   ]
  },
  {
   "cell_type": "code",
   "execution_count": 7,
   "id": "adcfae98",
   "metadata": {},
   "outputs": [
    {
     "name": "stdout",
     "output_type": "stream",
     "text": [
      "\n",
      "Sorted list is\n",
      "1 4 5 6 10 12 37 39 68 "
     ]
    }
   ],
   "source": [
    "heapSort(arr)\n",
    "\n",
    "n = len(arr)\n",
    "print(\"\\nSorted list is\")\n",
    "for i in range(n):\n",
    "  print(\"%d \" % arr[i], end='')"
   ]
  },
  {
   "cell_type": "markdown",
   "id": "1e61b502",
   "metadata": {},
   "source": [
    "As can be seen from the output above, the list is sorted. Hence, Heap Sort has been achieved."
   ]
  },
  {
   "cell_type": "markdown",
   "id": "bc19046e",
   "metadata": {},
   "source": [
    "## Full code implementation for Heapsort"
   ]
  },
  {
   "cell_type": "code",
   "execution_count": 8,
   "id": "6f749635",
   "metadata": {},
   "outputs": [
    {
     "name": "stdout",
     "output_type": "stream",
     "text": [
      "1 4 5 6 10 12 37 39 68 "
     ]
    }
   ],
   "source": [
    "def heapify(arr, n, root):\n",
    "         \n",
    "    # Find largest element among root and children\n",
    "    largest = root\n",
    "\n",
    "    # Find the left and right children of the root.\n",
    "    leftChild = 2 * root + 1\n",
    "    rightChild = 2 * root + 2\n",
    "\n",
    "    # check if the left child of the root exists and if it is greater than root \n",
    "    if leftChild < n and arr[root] < arr[leftChild]:\n",
    "        largest = leftChild\n",
    "\n",
    "    # check if the right child of the root exists and is it is greater than root \n",
    "    if rightChild < n and arr[largest] < arr[rightChild]:\n",
    "        largest = rightChild\n",
    "\n",
    "    # If the root is not the largest, swap it with largest and keep heapifying\n",
    "    if (largest != root):\n",
    "        arr[root], arr[largest] = arr[largest], arr[root]\n",
    "\n",
    "        # Heapify the root. \n",
    "        heapify(arr, n, largest)\n",
    "\n",
    "def heapSort(arr): \n",
    "    # First, we need to get the size(length) of the list being passed down\n",
    "    n = len(arr) \n",
    "  \n",
    "    # Itterate through the elements and heapify them. The resulting list of elements will be sorted\n",
    "    # in a max heap fashion.\n",
    "    for i in range(n, -1, -1): \n",
    "        heapify(arr, n, i) \n",
    "  \n",
    "    # One by one extract elements \n",
    "    for i in range(n-1, 0, -1): \n",
    "        arr[i], arr[0] = arr[0], arr[i] # swap\n",
    "\n",
    "        #Heapify root element\n",
    "        heapify(arr, i, 0) \n",
    "  \n",
    "\n",
    "\n",
    "#Driver Code\n",
    "arr = [1,4,68,37,10,6,39,12,5]\n",
    "n = len(arr)\n",
    "\n",
    "heapSort(arr)\n",
    "for i in range(n):\n",
    "    print(\"%d \" % arr[i], end='')\n",
    "\n",
    "\n"
   ]
  },
  {
   "cell_type": "markdown",
   "id": "17dd0f76",
   "metadata": {},
   "source": [
    "# Computational complexity of Heap Sort.\n"
   ]
  },
  {
   "cell_type": "markdown",
   "id": "00edf35a",
   "metadata": {},
   "source": [
    "## Time complexity of Heap Sort.\n"
   ]
  },
  {
   "cell_type": "markdown",
   "id": "fdcc6de5",
   "metadata": {},
   "source": [
    "To explain the computational complexity of an algorithem we must us Big O notation. At its most basic level, Big O notation defines how long it takes an algorithm to run, also called time complexity. It represents how long the runtime for a given algorithm can be as the data grows larger. \n"
   ]
  },
  {
   "cell_type": "markdown",
   "id": "04f846d8",
   "metadata": {},
   "source": [
    "You may be wondering what exactly is the importance of knowing the time complexity of any sorting algorithem, but as process, software and programs grow in size, these tiny differences in computational speed add up. All of a sudden, an algorithm that used to take little time to complete starts to slow down, so developers and programmers need to know what the worst-case scenario is, or rather, the slowest an algorithm could potentially run given an increasing amount of input data. \n",
    "\n",
    "The following chart is a good reference for the different levels of complexity in Big O:"
   ]
  },
  {
   "cell_type": "markdown",
   "id": "e63fdc32",
   "metadata": {},
   "source": [
    "[![big-o.jpg](https://i.postimg.cc/4NSFc3Kf/big-o.jpg)](https://postimg.cc/vc5zFbLk)"
   ]
  },
  {
   "cell_type": "markdown",
   "id": "f3b7bf3b",
   "metadata": {},
   "source": [
    "# Placeholder Title\n",
    "Placeholder Text"
   ]
  },
  {
   "cell_type": "markdown",
   "id": "9ccd30d2",
   "metadata": {},
   "source": [
    "# Placeholder Title\n",
    "Placeholder Text"
   ]
  },
  {
   "cell_type": "markdown",
   "id": "c4d866ee",
   "metadata": {},
   "source": [
    "# References\n",
    "We report here relevant references:\n",
    "1. \n",
    "2. "
   ]
  },
  {
   "cell_type": "code",
   "execution_count": null,
   "id": "54efb9cb",
   "metadata": {},
   "outputs": [],
   "source": []
  },
  {
   "cell_type": "code",
   "execution_count": null,
   "id": "01559ae4",
   "metadata": {},
   "outputs": [],
   "source": []
  }
 ],
 "metadata": {
  "kernelspec": {
   "display_name": "Python 3 (ipykernel)",
   "language": "python",
   "name": "python3"
  },
  "language_info": {
   "codemirror_mode": {
    "name": "ipython",
    "version": 3
   },
   "file_extension": ".py",
   "mimetype": "text/x-python",
   "name": "python",
   "nbconvert_exporter": "python",
   "pygments_lexer": "ipython3",
   "version": "3.9.7"
  }
 },
 "nbformat": 4,
 "nbformat_minor": 5
}
